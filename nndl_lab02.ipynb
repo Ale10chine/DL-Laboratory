{
  "nbformat": 4,
  "nbformat_minor": 0,
  "metadata": {
    "colab": {
      "provenance": [],
      "toc_visible": true,
      "gpuType": "T4",
      "include_colab_link": true
    },
    "kernelspec": {
      "name": "python3",
      "display_name": "Python 3"
    },
    "language_info": {
      "name": "python"
    },
    "accelerator": "GPU"
  },
  "cells": [
    {
      "cell_type": "markdown",
      "metadata": {
        "id": "view-in-github",
        "colab_type": "text"
      },
      "source": [
        "<a href=\"https://colab.research.google.com/github/Ale10chine/DL-Laboratory/blob/master/nndl_lab02.ipynb\" target=\"_parent\"><img src=\"https://colab.research.google.com/assets/colab-badge.svg\" alt=\"Open In Colab\"/></a>"
      ]
    },
    {
      "cell_type": "markdown",
      "metadata": {
        "id": "cGeRhi-ccIRX"
      },
      "source": [
        "# NEURAL NETWORKS AND DEEP LEARNING\n",
        "\n",
        "---\n",
        "A.A. 2024/25 (6 CFU) - Prof. Michele Rossi, Prof. Jacopo Pegoraro, Dr. Gianmaria Ventura, Dr. Pietro Talli\n",
        "---\n",
        "\n",
        "\n",
        "## Lab. 02 - Least Squares with NumPy and PyTorch\n"
      ]
    },
    {
      "cell_type": "code",
      "metadata": {
        "id": "ODcSwFcDXrtD"
      },
      "source": [
        "import numpy as np\n",
        "import matplotlib.pyplot as plt\n",
        "\n",
        "import torch\n",
        "import torch.nn as nn\n",
        "import torch.optim as optim\n",
        "from torch.utils.data import Dataset, DataLoader\n",
        "from torchvision import transforms"
      ],
      "execution_count": 1,
      "outputs": []
    },
    {
      "cell_type": "code",
      "metadata": {
        "id": "XBMlgnam0Yz0"
      },
      "source": [
        "import os\n",
        "os.environ['CUDA_LAUNCH_BLOCKING'] = '1'"
      ],
      "execution_count": 2,
      "outputs": []
    },
    {
      "cell_type": "markdown",
      "metadata": {
        "id": "umx4cL__ObGl"
      },
      "source": [
        "# Part 1: Least Squares with NumPy"
      ]
    },
    {
      "cell_type": "markdown",
      "metadata": {
        "id": "_74FRGbYH3DX"
      },
      "source": [
        "## Define the true model and generate some noisy samples\n"
      ]
    },
    {
      "cell_type": "markdown",
      "metadata": {
        "id": "6Tmgsm0EJc46"
      },
      "source": [
        "Let's define a simple quadratic model\n",
        "\n",
        "$$\n",
        "y = a + b * x + c * x^2 + \\text{noise}\\\\\n",
        "Y=X \\beta + \\text{noise}\\\\\n",
        "X=[1, x, x^2], \\quad\n",
        "\\beta =\n",
        "\\begin{bmatrix}\n",
        "  a\\\\\n",
        "  b\\\\\n",
        "  c\n",
        "\\end{bmatrix} =\n",
        "\\begin{bmatrix}\n",
        "  -1.45\\\\\n",
        "  1.12\\\\\n",
        "  2.3\n",
        "\\end{bmatrix}\n",
        "$$\n"
      ]
    },
    {
      "cell_type": "code",
      "metadata": {
        "id": "3S0-mvS0JNzb"
      },
      "source": [
        "# Function to create the polynomial model\n",
        "def poly_model(x, beta, noise_std=0):\n",
        "    \"\"\"\n",
        "    INPUT\n",
        "        x: x vector\n",
        "        beta: polynomial parameters\n",
        "        noise_std: enable noisy sampling (gaussian noise, zero mean, noise_std std)\n",
        "    \"\"\"\n",
        "    pol_order = len(beta)\n",
        "\n",
        "    # x^0  x^1  x^2\n",
        "    # x^0  x^1  x^2\n",
        "    # x^0  x^1  x^2\n",
        "    x_matrix = np.array([x**i for i in range(pol_order)]).transpose() # Create a list of vector for each i, then becomes trasponse\n",
        "    print(x_matrix)\n",
        "    y = np.matmul(x_matrix, beta)\n",
        "    noise = np.random.randn(len(y)) * noise_std\n",
        "    return y + noise"
      ],
      "execution_count": 8,
      "outputs": []
    },
    {
      "cell_type": "code",
      "metadata": {
        "id": "bF4oE_Ro_vQQ",
        "colab": {
          "base_uri": "https://localhost:8080/"
        },
        "outputId": "aa3c3245-ca1f-4869-8028-a53dd52e90ae"
      },
      "source": [
        "# TEST\n",
        "beta = [-1.45, 1.12, 2.3]\n",
        "x = np.array([1, 2, 3])\n",
        "expected_y = np.array([1.97, 9.99, 22.61])\n",
        "if np.array_equal(poly_model(x, beta, noise_std=0), expected_y):\n",
        "  print('OK!')\n",
        "else:\n",
        "  print('Something is wrong')"
      ],
      "execution_count": 4,
      "outputs": [
        {
          "output_type": "stream",
          "name": "stdout",
          "text": [
            "[[1 1 1]\n",
            " [1 2 4]\n",
            " [1 3 9]]\n",
            "OK!\n"
          ]
        }
      ]
    },
    {
      "cell_type": "markdown",
      "metadata": {
        "id": "7FTMuCb7Lwjh"
      },
      "source": [
        "Generate 10 training points and 10 test points. Add a gaussian noise with zero mean and 0.2 std (set a random seed for reproducible results)."
      ]
    },
    {
      "cell_type": "code",
      "metadata": {
        "id": "1FO-YkFHLHsu",
        "colab": {
          "base_uri": "https://localhost:8080/",
          "height": 1000
        },
        "outputId": "d5667d32-cb15-488f-ed71-3139d8ad2e93"
      },
      "source": [
        "### True parameter values\n",
        "beta_true = [-1.45, 1.12, 2.3]\n",
        "\n",
        "### Set random seed\n",
        "np.random.seed(3)\n",
        "\n",
        "### Generate 10 train points\n",
        "num_train_points = 10\n",
        "x_train = np.random.rand(num_train_points)\n",
        "y_train = poly_model(x_train, beta_true, noise_std=0.2)\n",
        "\n",
        "# NOTE: look also at the next blocks , we need to use the reshape to visualize a vector 1D\n",
        "# like column or row vector\n",
        "Y = y_train.reshape(len(y_train), 1)\n",
        "print(Y)\n",
        "print(Y.transpose())\n",
        "#print(\"Vector t: \", y_train.transpose())\n",
        "#print(\"Vector : \", y_train)\n",
        "\n",
        "### Generate 10 test points\n",
        "num_test_points = 10\n",
        "x_test = np.random.rand(num_test_points)\n",
        "y_test = poly_model(x_test, beta_true, noise_std=0.2)\n",
        "\n",
        "\n",
        "\n",
        "### Plot-1, 2\n",
        "plt.figure(figsize=(12,8))\n",
        "x_highres = np.linspace(0,1,1000) # 0 - 1000 with distance 1\n",
        "\n",
        "# Plot the true data model\n",
        "plt.plot(x_highres, poly_model(x_highres, beta_true), color='b', ls='--', label='True data model')\n",
        "\n",
        "# Plot training and test set\n",
        "plt.plot(x_train, y_train, color='r', ls='', marker='.', label='Train data points')\n",
        "plt.plot(x_test, y_test, color='g', ls='', marker='.', label='Test data points')\n",
        "plt.xlabel('x')\n",
        "plt.ylabel('y')\n",
        "plt.grid()\n",
        "plt.legend()\n",
        "plt.tight_layout()\n",
        "plt.show()"
      ],
      "execution_count": 34,
      "outputs": [
        {
          "output_type": "stream",
          "name": "stdout",
          "text": [
            "[[1.         0.5507979  0.30337833]\n",
            " [1.         0.70814782 0.50147334]\n",
            " [1.         0.29090474 0.08462557]\n",
            " [1.         0.51082761 0.26094484]\n",
            " [1.         0.89294695 0.79735426]\n",
            " [1.         0.89629309 0.8033413 ]\n",
            " [1.         0.12558531 0.01577167]\n",
            " [1.         0.20724288 0.04294961]\n",
            " [1.         0.0514672  0.00264887]\n",
            " [1.         0.44080984 0.19431332]]\n",
            "[[-0.14409983]\n",
            " [ 0.40107063]\n",
            " [-1.19232084]\n",
            " [-0.10077547]\n",
            " [ 1.560279  ]\n",
            " [ 1.74344787]\n",
            " [-1.26306288]\n",
            " [-1.20003936]\n",
            " [-1.49533631]\n",
            " [-0.81866781]]\n",
            "[[-0.14409983  0.40107063 -1.19232084 -0.10077547  1.560279    1.74344787\n",
            "  -1.26306288 -1.20003936 -1.49533631 -0.81866781]]\n",
            "[[1.         0.28352508 0.08038647]\n",
            " [1.         0.69313792 0.48044017]\n",
            " [1.         0.44045372 0.19399948]\n",
            " [1.         0.15686774 0.02460749]\n",
            " [1.         0.54464902 0.29664255]\n",
            " [1.         0.78031476 0.60889113]\n",
            " [1.         0.30636353 0.09385861]\n",
            " [1.         0.22195788 0.0492653 ]\n",
            " [1.         0.38797126 0.1505217 ]\n",
            " [1.         0.93638365 0.87681434]]\n",
            "[[1.00000000e+00 0.00000000e+00 0.00000000e+00]\n",
            " [1.00000000e+00 1.00100100e-03 1.00200300e-06]\n",
            " [1.00000000e+00 2.00200200e-03 4.00801202e-06]\n",
            " ...\n",
            " [1.00000000e+00 9.97997998e-01 9.96000004e-01]\n",
            " [1.00000000e+00 9.98998999e-01 9.97999000e-01]\n",
            " [1.00000000e+00 1.00000000e+00 1.00000000e+00]]\n"
          ]
        },
        {
          "output_type": "display_data",
          "data": {
            "text/plain": [
              "<Figure size 1200x800 with 1 Axes>"
            ],
            "image/png": "[encoded data removed]"
          },
          "metadata": {}
        }
      ]
    },
    {
      "cell_type": "markdown",
      "metadata": {
        "id": "1tZKmA0ZIP6e"
      },
      "source": [
        "## Least Squares Algorithm"
      ]
    },
    {
      "cell_type": "markdown",
      "metadata": {
        "id": "cIoEaWMhSyWs"
      },
      "source": [
        "ORDINARY LEAST SQUARES"
      ]
    },
    {
      "cell_type": "markdown",
      "metadata": {
        "id": "rtW9wsAOIu18"
      },
      "source": [
        "\n",
        "![image.png](data:image/png;base64,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)"
      ]
    },
    {
      "cell_type": "markdown",
      "metadata": {
        "id": "DSIYuBb6S1H7"
      },
      "source": [
        "REGULARIZED LEAST SQUARES"
      ]
    },
    {
      "cell_type": "markdown",
      "metadata": {
        "id": "lXGQd-NSSvA8"
      },
      "source": [
        "![image.png](data:image/png;base64,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)"
      ]
    },
    {
      "cell_type": "markdown",
      "metadata": {
        "id": "4TBx4JkMPnmB"
      },
      "source": [
        "Let's define a function to implement the Regularized Least Square algorithm.\n",
        "\n",
        "NOTE: OLS is RLS with $\\alpha=0$\n",
        "\n",
        "\n",
        "---\n",
        "\n",
        "\n",
        "*HINTS*\n",
        "\n",
        "`np.matmul(x1, x2)` -> Matrix product of two arrays\n",
        "\n",
        "`np.linalg.inv(a)` -> Compute the inverse of a matrix\n",
        "\n",
        "`a.transpose()` -> Reverse or permute the axes of an array\n",
        "\n",
        "`a.squeeze()` -> Remove single-dimensional entries from the shape of an array\n",
        "\n",
        "`np.identity(n)` -> Return the $n \\times  n$ identity array"
      ]
    },
    {
      "cell_type": "code",
      "metadata": {
        "id": "Ks2SuXkJPQaz"
      },
      "source": [
        "def least_squares(x, y, pol_order, reg_term):\n",
        "    \"\"\"\n",
        "    Implement the least square algorithm to fit a polynomial function of order \"pol_order\"\n",
        "    INPUT\n",
        "        x: training x data\n",
        "        y: training y data\n",
        "        pol_order: order of the fitting polynomial function\n",
        "        reg_term: regularization term\n",
        "    OUTPUT\n",
        "        beta_est: estimated parameter vector\n",
        "    \"\"\"\n",
        "\n",
        "    # Create the Y matrix\n",
        "    print(y.shape)\n",
        "    Y = y.reshape(len(y), 1)\n",
        "    #print(Y.shape) # To do matrix operation in numpy es with transpose we need to reshape the vector in a matrix\n",
        "    # len(y) x 1 , where the second dimension is like it's as if it didn't exist\n",
        "      # Create the X matrix\n",
        "    X = np.array([x**i for i in range(pol_order+1)]).transpose()\n",
        "\n",
        "    # RLS algorithm\n",
        "\n",
        "    #print(X.shape[1]) # := dim cols\n",
        "    #print(X.shape[0]) # := dim rows\n",
        "    #print(len(X)) # := dim rows\n",
        "\n",
        "    gram_matrix = np.matmul(X.transpose(),X) + np.eye(X.shape[1])*reg_term # (X^TX + I*reg_term)\n",
        "    gram_matrix_inv = np.linalg.inv(gram_matrix) # (X^TX + I*reg_term)^-1\n",
        "    temp = np.matmul(X.transpose(), Y) # (X^T*Y )\n",
        "    beta_est = np.matmul(gram_matrix_inv, temp)# (X^TX + I*reg_term)^-1 * (X^T*Y )\n",
        "\n",
        "    return beta_est.squeeze() # Reverse of reshape, if we got a fictitious dim this function will remove it\n"
      ],
      "execution_count": 60,
      "outputs": []
    },
    {
      "cell_type": "markdown",
      "metadata": {
        "id": "d6A7FXDXTSfs"
      },
      "source": [
        "### Ordinary Least Square (OLS) - No regularization - Model known"
      ]
    },
    {
      "cell_type": "markdown",
      "metadata": {
        "id": "PvR4cECYTWEM"
      },
      "source": [
        "Let's suppose that we already know that the order of the underlying polynomial model is 2 (this is a very valuable **prior** information, and rarely happens in real world cases)."
      ]
    },
    {
      "cell_type": "code",
      "metadata": {
        "id": "ryzSQS86PrFF",
        "colab": {
          "base_uri": "https://localhost:8080/"
        },
        "outputId": "dd44c4d3-36c3-4750-e6f2-d33022f2ed67"
      },
      "source": [
        "### Fit the model\n",
        "beta_ols = least_squares(x_train, y_train, pol_order=2, reg_term=0)\n",
        "\n",
        "print('True parameters', beta_true)\n",
        "print('Inferred parameters (Training)', beta_ols)"
      ],
      "execution_count": 47,
      "outputs": [
        {
          "output_type": "stream",
          "name": "stdout",
          "text": [
            "(10,)\n",
            "True parameters [-1.45, 1.12, 2.3]\n",
            "Inferred parameters (Training) [-1.47163667  0.39838972  3.44032748]\n"
          ]
        }
      ]
    },
    {
      "cell_type": "code",
      "metadata": {
        "id": "l_cdwEcyT2kR",
        "colab": {
          "base_uri": "https://localhost:8080/",
          "height": 929
        },
        "outputId": "c105513b-e993-4ea7-b63b-d5e9a3511eec"
      },
      "source": [
        "\n",
        "### Plot\n",
        "plt.close('all')\n",
        "plt.figure(figsize=(12,8))\n",
        "x_highres = np.linspace(0,1,1000)\n",
        "plt.plot(x_highres, poly_model(x_highres, beta_true), color='b', ls='--', label='True data model')\n",
        "plt.plot(x_train, y_train, color='r', ls='', marker='.', label='Measured data points')\n",
        "plt.plot(x_highres, poly_model(x_highres, beta_ols), color='g', ls='--', label='OLS inferred model')\n",
        "plt.xlabel('x')\n",
        "plt.ylabel('y')\n",
        "plt.grid()\n",
        "plt.legend()\n",
        "plt.tight_layout()\n",
        "plt.show()\n"
      ],
      "execution_count": 48,
      "outputs": [
        {
          "output_type": "stream",
          "name": "stdout",
          "text": [
            "[[1.00000000e+00 0.00000000e+00 0.00000000e+00]\n",
            " [1.00000000e+00 1.00100100e-03 1.00200300e-06]\n",
            " [1.00000000e+00 2.00200200e-03 4.00801202e-06]\n",
            " ...\n",
            " [1.00000000e+00 9.97997998e-01 9.96000004e-01]\n",
            " [1.00000000e+00 9.98998999e-01 9.97999000e-01]\n",
            " [1.00000000e+00 1.00000000e+00 1.00000000e+00]]\n",
            "[[1.00000000e+00 0.00000000e+00 0.00000000e+00]\n",
            " [1.00000000e+00 1.00100100e-03 1.00200300e-06]\n",
            " [1.00000000e+00 2.00200200e-03 4.00801202e-06]\n",
            " ...\n",
            " [1.00000000e+00 9.97997998e-01 9.96000004e-01]\n",
            " [1.00000000e+00 9.98998999e-01 9.97999000e-01]\n",
            " [1.00000000e+00 1.00000000e+00 1.00000000e+00]]\n"
          ]
        },
        {
          "output_type": "display_data",
          "data": {
            "text/plain": [
              "<Figure size 1200x800 with 1 Axes>"
            ],
            "image/png": "[encoded data removed]"
          },
          "metadata": {}
        }
      ]
    },
    {
      "cell_type": "code",
      "metadata": {
        "id": "OWVk1oFYUKXw",
        "colab": {
          "base_uri": "https://localhost:8080/"
        },
        "outputId": "c625eb74-a804-4733-a35a-fe93f0934c61"
      },
      "source": [
        "### Train and test loss\n",
        "# Evaluate the average train MSE\n",
        "y_train_ols = poly_model(x_train, beta_ols)\n",
        "train_loss = np.mean((y_train_ols - y_train)**2) # Training error L_S(h)\n",
        "print('Train loss:', train_loss)\n",
        "\n",
        "# Evaluate the average test loss\n",
        "y_test_ols = poly_model(x_test, beta_ols)\n",
        "test_loss = np.mean((y_test_ols - y_test)**2) # Test errror L_D(h)\n",
        "print('Test loss:', test_loss)"
      ],
      "execution_count": 50,
      "outputs": [
        {
          "output_type": "stream",
          "name": "stdout",
          "text": [
            "[[1.         0.5507979  0.30337833]\n",
            " [1.         0.70814782 0.50147334]\n",
            " [1.         0.29090474 0.08462557]\n",
            " [1.         0.51082761 0.26094484]\n",
            " [1.         0.89294695 0.79735426]\n",
            " [1.         0.89629309 0.8033413 ]\n",
            " [1.         0.12558531 0.01577167]\n",
            " [1.         0.20724288 0.04294961]\n",
            " [1.         0.0514672  0.00264887]\n",
            " [1.         0.44080984 0.19431332]]\n",
            "Train loss: 0.01766080007865899\n",
            "[[1.         0.28352508 0.08038647]\n",
            " [1.         0.69313792 0.48044017]\n",
            " [1.         0.44045372 0.19399948]\n",
            " [1.         0.15686774 0.02460749]\n",
            " [1.         0.54464902 0.29664255]\n",
            " [1.         0.78031476 0.60889113]\n",
            " [1.         0.30636353 0.09385861]\n",
            " [1.         0.22195788 0.0492653 ]\n",
            " [1.         0.38797126 0.1505217 ]\n",
            " [1.         0.93638365 0.87681434]]\n",
            "Test loss: 0.08031750472826943\n"
          ]
        }
      ]
    },
    {
      "cell_type": "markdown",
      "metadata": {
        "id": "yrwv_eMvVBKr"
      },
      "source": [
        "As you can see the model is pretty close to the true one, considering the low number of training points.\n",
        "\n",
        "Any knowledge about the true model is **very** helpful!"
      ]
    },
    {
      "cell_type": "markdown",
      "metadata": {
        "id": "i3nf0p-bU3wN"
      },
      "source": [
        "### Ordinary Least Square (OLS) - No regularization - Model unknown"
      ]
    },
    {
      "cell_type": "markdown",
      "metadata": {
        "id": "b49qTEPwU6Tx"
      },
      "source": [
        "Now let's consider a more realistic scenario, where we know nothing about the true model. Since we do not have any information, we can try to fit a polynomial model with order 9."
      ]
    },
    {
      "cell_type": "code",
      "metadata": {
        "id": "4AL7B7STUX0c",
        "colab": {
          "base_uri": "https://localhost:8080/"
        },
        "outputId": "ee847033-bea8-4199-b7d6-06b221fbd8a2"
      },
      "source": [
        "### Fit the model with a higher order polynomial\n",
        "beta_ols_ho = least_squares(x_train, y_train, pol_order=9, reg_term=0)\n",
        "\n",
        "print('True parameters', beta_true)\n",
        "print('Inferred parameters', beta_ols_ho)"
      ],
      "execution_count": 51,
      "outputs": [
        {
          "output_type": "stream",
          "name": "stdout",
          "text": [
            "(10,)\n",
            "True parameters [-1.45, 1.12, 2.3]\n",
            "Inferred parameters [-1.88474811e+01  7.47168106e+02 -1.19125164e+04  9.69081709e+04\n",
            " -4.53210203e+05  1.28448805e+06 -2.23540146e+06  2.32901441e+06\n",
            " -1.33048283e+06  3.20009483e+05]\n"
          ]
        }
      ]
    },
    {
      "cell_type": "code",
      "metadata": {
        "id": "3b1tYvuQVt0L",
        "colab": {
          "base_uri": "https://localhost:8080/",
          "height": 1000
        },
        "outputId": "efa52fb8-aa41-48a1-b624-3403674fee7b"
      },
      "source": [
        "### Plot\n",
        "plt.close('all')\n",
        "plt.figure(figsize=(12,8))\n",
        "x_highres = np.linspace(0,1,1000)\n",
        "plt.plot(x_highres, poly_model(x_highres, beta_true), color='b', ls='--', label='True data model')\n",
        "plt.plot(x_train, y_train, color='r', ls='', marker='.', label='Measured data points')\n",
        "plt.plot(x_highres, poly_model(x_highres, beta_ols_ho), color='g', ls='--', label='OLS inferred model')\n",
        "plt.xlabel('x')\n",
        "plt.ylabel('y')\n",
        "plt.grid()\n",
        "plt.legend()\n",
        "plt.tight_layout()\n",
        "plt.ylim([-2.5,2.5])\n",
        "plt.show()"
      ],
      "execution_count": 52,
      "outputs": [
        {
          "output_type": "stream",
          "name": "stdout",
          "text": [
            "[[1.00000000e+00 0.00000000e+00 0.00000000e+00]\n",
            " [1.00000000e+00 1.00100100e-03 1.00200300e-06]\n",
            " [1.00000000e+00 2.00200200e-03 4.00801202e-06]\n",
            " ...\n",
            " [1.00000000e+00 9.97997998e-01 9.96000004e-01]\n",
            " [1.00000000e+00 9.98998999e-01 9.97999000e-01]\n",
            " [1.00000000e+00 1.00000000e+00 1.00000000e+00]]\n",
            "[[1.00000000e+00 0.00000000e+00 0.00000000e+00 ... 0.00000000e+00\n",
            "  0.00000000e+00 0.00000000e+00]\n",
            " [1.00000000e+00 1.00100100e-03 1.00200300e-06 ... 1.00702808e-21\n",
            "  1.00803612e-24 1.00904517e-27]\n",
            " [1.00000000e+00 2.00200200e-03 4.00801202e-06 ... 1.28899595e-19\n",
            "  2.58057247e-22 5.16631125e-25]\n",
            " ...\n",
            " [1.00000000e+00 9.97997998e-01 9.96000004e-01 ... 9.86069874e-01\n",
            "  9.84095760e-01 9.82125598e-01]\n",
            " [1.00000000e+00 9.98998999e-01 9.97999000e-01 ... 9.93014000e-01\n",
            "  9.92019992e-01 9.91026979e-01]\n",
            " [1.00000000e+00 1.00000000e+00 1.00000000e+00 ... 1.00000000e+00\n",
            "  1.00000000e+00 1.00000000e+00]]\n"
          ]
        },
        {
          "output_type": "display_data",
          "data": {
            "text/plain": [
              "<Figure size 1200x800 with 1 Axes>"
            ],
            "image/png": "[encoded data removed]"
          },
          "metadata": {}
        }
      ]
    },
    {
      "cell_type": "code",
      "metadata": {
        "id": "wtk0E5KdVuzr",
        "colab": {
          "base_uri": "https://localhost:8080/"
        },
        "outputId": "a2e06be4-799d-4d94-bda8-29ef5f3ad748"
      },
      "source": [
        "### Train and test loss\n",
        "# Evaluate the average train MSE\n",
        "y_train_ols = poly_model(x_train, beta_ols_ho)\n",
        "train_loss = np.mean((y_train_ols - y_train)**2)\n",
        "print('Train loss:', train_loss)\n",
        "\n",
        "# Evaluate the average test loss\n",
        "y_test_ols = poly_model(x_test, beta_ols_ho)\n",
        "test_loss = np.mean((y_test_ols - y_test)**2)\n",
        "print('Test loss:', test_loss)\n",
        "\n",
        "# You can appreciate that the train error is like 0.00000.. something\n",
        "# While the test error is around 15, so we have an extremely large overfitting!!!"
      ],
      "execution_count": 54,
      "outputs": [
        {
          "output_type": "stream",
          "name": "stdout",
          "text": [
            "[[1.00000000e+00 5.50797903e-01 3.03378329e-01 1.67100148e-01\n",
            "  9.20384108e-02 5.06945636e-02 2.79224593e-02 1.53796320e-02\n",
            "  8.47106906e-03 4.66584707e-03]\n",
            " [1.00000000e+00 7.08147823e-01 5.01473339e-01 3.55117253e-01\n",
            "  2.51475509e-01 1.78081834e-01 1.26108263e-01 8.93032921e-02\n",
            "  6.32399318e-02 4.47832200e-02]\n",
            " [1.00000000e+00 2.90904739e-01 8.46255671e-02 2.46179785e-02\n",
            "  7.16148661e-03 2.08331039e-03 6.06044866e-04 1.76301323e-04\n",
            "  5.12868905e-05 1.49195995e-05]\n",
            " [1.00000000e+00 5.10827605e-01 2.60944842e-01 1.33297829e-01\n",
            "  6.80922107e-02 3.47833809e-02 1.77683112e-02 9.07654385e-03\n",
            "  4.63654916e-03 2.36847730e-03]\n",
            " [1.00000000e+00 8.92946954e-01 7.97354263e-01 7.11995061e-01\n",
            "  6.35773821e-01 5.67712297e-01 5.06936967e-01 4.52667821e-01\n",
            "  4.04208352e-01 3.60936617e-01]\n",
            " [1.00000000e+00 8.96293089e-01 8.03341301e-01 7.20029256e-01\n",
            "  6.45357246e-01 5.78429240e-01 5.18442130e-01 4.64676098e-01\n",
            "  4.16485975e-01 3.73293501e-01]\n",
            " [1.00000000e+00 1.25585310e-01 1.57716702e-02 1.98069010e-03\n",
            "  2.48745581e-04 3.12387910e-05 3.92313327e-06 4.92687910e-07\n",
            "  6.18743641e-08 7.77051122e-09]\n",
            " [1.00000000e+00 2.07242878e-01 4.29496105e-02 8.90100090e-03\n",
            "  1.84466905e-03 3.82294522e-04 7.92278171e-05 1.64194008e-05\n",
            "  3.40280389e-06 7.05206871e-07]\n",
            " [1.00000000e+00 5.14672033e-02 2.64887302e-03 1.36330086e-04\n",
            "  7.01652825e-06 3.61121086e-07 1.85858924e-08 9.56563900e-10\n",
            "  4.92316687e-11 2.53381630e-12]\n",
            " [1.00000000e+00 4.40809844e-01 1.94313318e-01 8.56552234e-02\n",
            "  3.77576657e-02 1.66439507e-02 7.33681730e-03 3.23414129e-03\n",
            "  1.42564132e-03 6.28436725e-04]]\n",
            "Train loss: 2.8196282758193384e-05\n",
            "[[1.00000000e+00 2.83525082e-01 8.03864720e-02 2.27915810e-02\n",
            "  6.46198488e-03 1.83213479e-03 5.19456167e-04 1.47278852e-04\n",
            "  4.17572486e-05 1.18392273e-05]\n",
            " [1.00000000e+00 6.93137918e-01 4.80440174e-01 3.33011302e-01\n",
            "  2.30822761e-01 1.59992008e-01 1.10896527e-01 7.68665880e-02\n",
            "  5.32791468e-02 3.69297969e-02]\n",
            " [1.00000000e+00 4.40453718e-01 1.93999477e-01 8.54477911e-02\n",
            "  3.76357972e-02 1.65768268e-02 7.30132500e-03 3.21589574e-03\n",
            "  1.41645323e-03 6.23882093e-04]\n",
            " [1.00000000e+00 1.56867738e-01 2.46074874e-02 3.86012089e-03\n",
            "  6.05528435e-04 9.49878762e-05 1.49005333e-05 2.33741296e-06\n",
            "  3.66664685e-07 5.75178600e-08]\n",
            " [1.00000000e+00 5.44649018e-01 2.96642553e-01 1.61566075e-01\n",
            "  8.79968042e-02 4.79273730e-02 2.61035966e-02 1.42172983e-02\n",
            "  7.74343754e-03 4.21745565e-03]\n",
            " [1.00000000e+00 7.80314765e-01 6.08891132e-01 4.75126740e-01\n",
            "  3.70748410e-01 2.89300458e-01 2.25745419e-01 1.76152484e-01\n",
            "  1.37454384e-01 1.07257685e-01]\n",
            " [1.00000000e+00 3.06363532e-01 9.38586140e-02 2.87548565e-02\n",
            "  8.80943942e-03 2.69889098e-03 8.26841773e-04 2.53314166e-04\n",
            "  7.76062228e-05 2.37757166e-05]\n",
            " [1.00000000e+00 2.21957884e-01 4.92653022e-02 1.09348222e-02\n",
            "  2.42707000e-03 5.38707322e-04 1.19570337e-04 2.65395791e-05\n",
            "  5.89066881e-06 1.30748038e-06]\n",
            " [1.00000000e+00 3.87971258e-01 1.50521697e-01 5.83980920e-02\n",
            "  2.26567812e-02 8.79017988e-03 3.41033714e-03 1.32311279e-03\n",
            "  5.13329733e-04 1.99157182e-04]\n",
            " [1.00000000e+00 9.36383650e-01 8.76814340e-01 8.21034612e-01\n",
            "  7.68803386e-01 7.19894921e-01 6.74097834e-01 6.31214190e-01\n",
            "  5.91058647e-01 5.53457653e-01]]\n",
            "Test loss: 15.545506938984033\n"
          ]
        }
      ]
    },
    {
      "cell_type": "markdown",
      "metadata": {
        "id": "6D2kOwA8V2E7"
      },
      "source": [
        "This is a typical case of **overfitting**. We are trying to fit a model that is much more complex than the real one.\n",
        "\n",
        "As you can see, the polynomial coefficients found are very large.\n",
        "\n",
        "To alleviate this effect, we can include a **regularization** term, which penalizes coefficients with large (quadratic) values.\n",
        "\n",
        "---\n",
        "\n",
        "*NOTE*\n",
        "\n",
        "We are considering an L2 regularization (quadratic penalty term), which has an analitical solution.\n",
        "\n",
        "We can also consider the absolute values of the coefficient in the regularization term (L1 regularization)."
      ]
    },
    {
      "cell_type": "markdown",
      "metadata": {
        "id": "dfXpBvh_VzXh"
      },
      "source": [
        "### Regularized Least Squares (RLS) - Model unknown\n"
      ]
    },
    {
      "cell_type": "markdown",
      "metadata": {
        "id": "V0c-CEzwZ2hX"
      },
      "source": [
        "Let's fit the same model as before, but with a regularization term of $0.1$."
      ]
    },
    {
      "cell_type": "code",
      "metadata": {
        "id": "BJ0U1fIyZjP6",
        "colab": {
          "base_uri": "https://localhost:8080/"
        },
        "outputId": "31fd4355-6737-4cee-b376-7b6b39c0a61a"
      },
      "source": [
        "### Fit the model with a higher order polynomial\n",
        "beta_rls = least_squares(x_train, y_train, pol_order=9, reg_term=0.1)\n",
        "\n",
        "print('True parameters', beta_true)\n",
        "print('Inferred parameters', beta_rls)"
      ],
      "execution_count": 56,
      "outputs": [
        {
          "output_type": "stream",
          "name": "stdout",
          "text": [
            "(10,)\n",
            "True parameters [-1.45, 1.12, 2.3]\n",
            "Inferred parameters [-1.40193978  1.11945046  1.00587865  0.69763917  0.46265449  0.31011377\n",
            "  0.21529531  0.15648382  0.11926821  0.09488916]\n"
          ]
        }
      ]
    },
    {
      "cell_type": "code",
      "metadata": {
        "id": "ZJttljGiZ_g0",
        "colab": {
          "base_uri": "https://localhost:8080/",
          "height": 1000
        },
        "outputId": "e84135eb-da5a-4772-9d64-fb8f9ffe456d"
      },
      "source": [
        "### Plot\n",
        "plt.close('all')\n",
        "plt.figure(figsize=(12,8))\n",
        "x_highres = np.linspace(0,1,1000)\n",
        "plt.plot(x_highres, poly_model(x_highres, beta_true), color='b', ls='--', label='True data model')\n",
        "plt.plot(x_train, y_train, color='r', ls='', marker='.', label='Measured data points')\n",
        "plt.plot(x_highres, poly_model(x_highres, beta_rls), color='g', ls='--', label='OLS inferred model')\n",
        "plt.xlabel('x')\n",
        "plt.ylabel('y')\n",
        "plt.grid()\n",
        "plt.legend()\n",
        "plt.tight_layout()\n",
        "plt.ylim([-1.5,2])\n",
        "plt.show()"
      ],
      "execution_count": 57,
      "outputs": [
        {
          "output_type": "stream",
          "name": "stdout",
          "text": [
            "[[1.00000000e+00 0.00000000e+00 0.00000000e+00]\n",
            " [1.00000000e+00 1.00100100e-03 1.00200300e-06]\n",
            " [1.00000000e+00 2.00200200e-03 4.00801202e-06]\n",
            " ...\n",
            " [1.00000000e+00 9.97997998e-01 9.96000004e-01]\n",
            " [1.00000000e+00 9.98998999e-01 9.97999000e-01]\n",
            " [1.00000000e+00 1.00000000e+00 1.00000000e+00]]\n",
            "[[1.00000000e+00 0.00000000e+00 0.00000000e+00 ... 0.00000000e+00\n",
            "  0.00000000e+00 0.00000000e+00]\n",
            " [1.00000000e+00 1.00100100e-03 1.00200300e-06 ... 1.00702808e-21\n",
            "  1.00803612e-24 1.00904517e-27]\n",
            " [1.00000000e+00 2.00200200e-03 4.00801202e-06 ... 1.28899595e-19\n",
            "  2.58057247e-22 5.16631125e-25]\n",
            " ...\n",
            " [1.00000000e+00 9.97997998e-01 9.96000004e-01 ... 9.86069874e-01\n",
            "  9.84095760e-01 9.82125598e-01]\n",
            " [1.00000000e+00 9.98998999e-01 9.97999000e-01 ... 9.93014000e-01\n",
            "  9.92019992e-01 9.91026979e-01]\n",
            " [1.00000000e+00 1.00000000e+00 1.00000000e+00 ... 1.00000000e+00\n",
            "  1.00000000e+00 1.00000000e+00]]\n"
          ]
        },
        {
          "output_type": "display_data",
          "data": {
            "text/plain": [
              "<Figure size 1200x800 with 1 Axes>"
            ],
            "image/png": "[encoded data removed]"
          },
          "metadata": {}
        }
      ]
    },
    {
      "cell_type": "code",
      "metadata": {
        "id": "fBGlfCPAaCFe",
        "colab": {
          "base_uri": "https://localhost:8080/"
        },
        "outputId": "eda03509-1eb4-4123-96e3-c3e4c5ff6702"
      },
      "source": [
        "### Train and test loss\n",
        "# Evaluate the average train MSE\n",
        "y_train_ols = poly_model(x_train, beta_rls)\n",
        "train_loss = np.mean((y_train_ols - y_train)**2)\n",
        "print('Train loss:', train_loss)\n",
        "\n",
        "# Evaluate the average test loss\n",
        "y_test_ols = poly_model(x_test, beta_rls)\n",
        "test_loss = np.mean((y_test_ols - y_test)**2)\n",
        "print('Test loss:', test_loss)"
      ],
      "execution_count": 58,
      "outputs": [
        {
          "output_type": "stream",
          "name": "stdout",
          "text": [
            "[[1.00000000e+00 5.50797903e-01 3.03378329e-01 1.67100148e-01\n",
            "  9.20384108e-02 5.06945636e-02 2.79224593e-02 1.53796320e-02\n",
            "  8.47106906e-03 4.66584707e-03]\n",
            " [1.00000000e+00 7.08147823e-01 5.01473339e-01 3.55117253e-01\n",
            "  2.51475509e-01 1.78081834e-01 1.26108263e-01 8.93032921e-02\n",
            "  6.32399318e-02 4.47832200e-02]\n",
            " [1.00000000e+00 2.90904739e-01 8.46255671e-02 2.46179785e-02\n",
            "  7.16148661e-03 2.08331039e-03 6.06044866e-04 1.76301323e-04\n",
            "  5.12868905e-05 1.49195995e-05]\n",
            " [1.00000000e+00 5.10827605e-01 2.60944842e-01 1.33297829e-01\n",
            "  6.80922107e-02 3.47833809e-02 1.77683112e-02 9.07654385e-03\n",
            "  4.63654916e-03 2.36847730e-03]\n",
            " [1.00000000e+00 8.92946954e-01 7.97354263e-01 7.11995061e-01\n",
            "  6.35773821e-01 5.67712297e-01 5.06936967e-01 4.52667821e-01\n",
            "  4.04208352e-01 3.60936617e-01]\n",
            " [1.00000000e+00 8.96293089e-01 8.03341301e-01 7.20029256e-01\n",
            "  6.45357246e-01 5.78429240e-01 5.18442130e-01 4.64676098e-01\n",
            "  4.16485975e-01 3.73293501e-01]\n",
            " [1.00000000e+00 1.25585310e-01 1.57716702e-02 1.98069010e-03\n",
            "  2.48745581e-04 3.12387910e-05 3.92313327e-06 4.92687910e-07\n",
            "  6.18743641e-08 7.77051122e-09]\n",
            " [1.00000000e+00 2.07242878e-01 4.29496105e-02 8.90100090e-03\n",
            "  1.84466905e-03 3.82294522e-04 7.92278171e-05 1.64194008e-05\n",
            "  3.40280389e-06 7.05206871e-07]\n",
            " [1.00000000e+00 5.14672033e-02 2.64887302e-03 1.36330086e-04\n",
            "  7.01652825e-06 3.61121086e-07 1.85858924e-08 9.56563900e-10\n",
            "  4.92316687e-11 2.53381630e-12]\n",
            " [1.00000000e+00 4.40809844e-01 1.94313318e-01 8.56552234e-02\n",
            "  3.77576657e-02 1.66439507e-02 7.33681730e-03 3.23414129e-03\n",
            "  1.42564132e-03 6.28436725e-04]]\n",
            "Train loss: 0.025804726797935024\n",
            "[[1.00000000e+00 2.83525082e-01 8.03864720e-02 2.27915810e-02\n",
            "  6.46198488e-03 1.83213479e-03 5.19456167e-04 1.47278852e-04\n",
            "  4.17572486e-05 1.18392273e-05]\n",
            " [1.00000000e+00 6.93137918e-01 4.80440174e-01 3.33011302e-01\n",
            "  2.30822761e-01 1.59992008e-01 1.10896527e-01 7.68665880e-02\n",
            "  5.32791468e-02 3.69297969e-02]\n",
            " [1.00000000e+00 4.40453718e-01 1.93999477e-01 8.54477911e-02\n",
            "  3.76357972e-02 1.65768268e-02 7.30132500e-03 3.21589574e-03\n",
            "  1.41645323e-03 6.23882093e-04]\n",
            " [1.00000000e+00 1.56867738e-01 2.46074874e-02 3.86012089e-03\n",
            "  6.05528435e-04 9.49878762e-05 1.49005333e-05 2.33741296e-06\n",
            "  3.66664685e-07 5.75178600e-08]\n",
            " [1.00000000e+00 5.44649018e-01 2.96642553e-01 1.61566075e-01\n",
            "  8.79968042e-02 4.79273730e-02 2.61035966e-02 1.42172983e-02\n",
            "  7.74343754e-03 4.21745565e-03]\n",
            " [1.00000000e+00 7.80314765e-01 6.08891132e-01 4.75126740e-01\n",
            "  3.70748410e-01 2.89300458e-01 2.25745419e-01 1.76152484e-01\n",
            "  1.37454384e-01 1.07257685e-01]\n",
            " [1.00000000e+00 3.06363532e-01 9.38586140e-02 2.87548565e-02\n",
            "  8.80943942e-03 2.69889098e-03 8.26841773e-04 2.53314166e-04\n",
            "  7.76062228e-05 2.37757166e-05]\n",
            " [1.00000000e+00 2.21957884e-01 4.92653022e-02 1.09348222e-02\n",
            "  2.42707000e-03 5.38707322e-04 1.19570337e-04 2.65395791e-05\n",
            "  5.89066881e-06 1.30748038e-06]\n",
            " [1.00000000e+00 3.87971258e-01 1.50521697e-01 5.83980920e-02\n",
            "  2.26567812e-02 8.79017988e-03 3.41033714e-03 1.32311279e-03\n",
            "  5.13329733e-04 1.99157182e-04]\n",
            " [1.00000000e+00 9.36383650e-01 8.76814340e-01 8.21034612e-01\n",
            "  7.68803386e-01 7.19894921e-01 6.74097834e-01 6.31214190e-01\n",
            "  5.91058647e-01 5.53457653e-01]]\n",
            "Test loss: 0.09037839040251924\n"
          ]
        }
      ]
    },
    {
      "cell_type": "markdown",
      "metadata": {
        "id": "sr2hY6hnaGz1"
      },
      "source": [
        "The result is much better! Keep in mind that we are fitting a polynomial model of **order 9** with data generated by a polynomial model of **order 2** , still achieving good results."
      ]
    },
    {
      "cell_type": "markdown",
      "metadata": {
        "id": "HNzzIz7KaFGM"
      },
      "source": [
        "## The generalization problem"
      ]
    },
    {
      "cell_type": "markdown",
      "metadata": {
        "id": "nTEMcwswbSgP"
      },
      "source": [
        "But what happens if we extend the model just trained outside the range of the training points?\n",
        "\n",
        "Let's try."
      ]
    },
    {
      "cell_type": "code",
      "metadata": {
        "id": "79Y8XcwYbLLm",
        "colab": {
          "base_uri": "https://localhost:8080/",
          "height": 1000
        },
        "outputId": "03e4b894-0738-409d-e5b8-d3b4737c6cd2"
      },
      "source": [
        "### Plot\n",
        "plt.close('all')\n",
        "plt.figure(figsize=(12,8))\n",
        "x_highres = np.linspace(0,2,1000)\n",
        "plt.plot(x_highres, poly_model(x_highres, beta_true), color='b', ls='--', label='True data model')\n",
        "plt.plot(x_train, y_train, color='r', ls='', marker='.', label='Measured data points')\n",
        "plt.plot(x_highres, poly_model(x_highres, beta_rls), color='g', ls='--', label='RLS inferred model')\n",
        "plt.xlabel('x')\n",
        "plt.ylabel('y')\n",
        "plt.grid()\n",
        "plt.legend()\n",
        "plt.tight_layout()\n",
        "plt.show()"
      ],
      "execution_count": 59,
      "outputs": [
        {
          "output_type": "stream",
          "name": "stdout",
          "text": [
            "[[1.00000000e+00 0.00000000e+00 0.00000000e+00]\n",
            " [1.00000000e+00 2.00200200e-03 4.00801202e-06]\n",
            " [1.00000000e+00 4.00400400e-03 1.60320481e-05]\n",
            " ...\n",
            " [1.00000000e+00 1.99599600e+00 3.98400002e+00]\n",
            " [1.00000000e+00 1.99799800e+00 3.99199600e+00]\n",
            " [1.00000000e+00 2.00000000e+00 4.00000000e+00]]\n",
            "[[1.00000000e+00 0.00000000e+00 0.00000000e+00 ... 0.00000000e+00\n",
            "  0.00000000e+00 0.00000000e+00]\n",
            " [1.00000000e+00 2.00200200e-03 4.00801202e-06 ... 1.28899595e-19\n",
            "  2.58057247e-22 5.16631125e-25]\n",
            " [1.00000000e+00 4.00400400e-03 1.60320481e-05 ... 1.64991481e-17\n",
            "  6.60626552e-20 2.64515136e-22]\n",
            " ...\n",
            " [1.00000000e+00 1.99599600e+00 3.98400002e+00 ... 1.26216944e+02\n",
            "  2.51928515e+02 5.02848306e+02]\n",
            " [1.00000000e+00 1.99799800e+00 3.99199600e+00 ... 1.27105792e+02\n",
            "  2.53957118e+02 5.07405813e+02]\n",
            " [1.00000000e+00 2.00000000e+00 4.00000000e+00 ... 1.28000000e+02\n",
            "  2.56000000e+02 5.12000000e+02]]\n"
          ]
        },
        {
          "output_type": "display_data",
          "data": {
            "text/plain": [
              "<Figure size 1200x800 with 1 Axes>"
            ],
            "image/png": "[encoded data removed]"
          },
          "metadata": {}
        }
      ]
    },
    {
      "cell_type": "markdown",
      "metadata": {
        "id": "6hLisFHMbh6Q"
      },
      "source": [
        "As you can see, the further we are from the region where we have training data, the worse the trained model approximates the true one. The inferred model does not **generalize** well outside the training space.\n",
        "\n",
        "Typically, simpler models generalize better than complex models. When two models perform the same, the best option is (almost) always to choose the simplest of the two."
      ]
    },
    {
      "cell_type": "markdown",
      "metadata": {
        "id": "hvtc3rFDcKTC"
      },
      "source": [
        "## Parameter optimization"
      ]
    },
    {
      "cell_type": "markdown",
      "metadata": {
        "id": "PAtHvI5ndBVq"
      },
      "source": [
        "In the previous training we used a regularization term $\\alpha=0.1$. But how we choose this type of parameters?\n",
        "\n",
        "Most machine learning/deep learning algorithms have several hyper-parameters that considerably affect the results. To find a good set of hyper-parameters we need an additional set of data, referred to as **validation** data. Hyper-parameters are typically chosen by minimizing the error on the validation set (or better by performing a cross-validation).\n",
        "\n",
        "**TO SUMMARIZE:**\n",
        "\n",
        "*   **Always divide your dataset in a training set and a test set.**\n",
        "*   **Further divide your training set to have a validation set for hyper-parameter optimization (or perform a cross-validation)**\n",
        "*   **Never touch the test set during the optimization (this is cheating!). It can be used only at the end for the final test.**\n",
        "\n"
      ]
    },
    {
      "cell_type": "markdown",
      "metadata": {
        "id": "p82k5GjECklA"
      },
      "source": [
        "# Part 2: Least Squares with PyTorch"
      ]
    },
    {
      "cell_type": "markdown",
      "metadata": {
        "id": "7QLy_wTqDVM1"
      },
      "source": [
        "We will now solve the same problem, however, instead of computing the solution using the closed form equation, we wil cast this problem as a regression task and we will solve it using a simple Neural Network implemented in PyTorch."
      ]
    },
    {
      "cell_type": "markdown",
      "metadata": {
        "id": "Wf9Zr5WjUZnB"
      },
      "source": [
        "## Data generation"
      ]
    },
    {
      "cell_type": "markdown",
      "metadata": {
        "id": "5h0IGLgfUha0"
      },
      "source": [
        "Let's generate some data with our usual polynomial model, and save the data points in two csv files, one for training (train_data.csv), and one for validation (val_data.csv).\n",
        "\n",
        "You can find these files in the \"Files\" section of Colab, in the \"content\" folder. They are not stored in your local machine, but they are stored remotely in the Colab server."
      ]
    },
    {
      "cell_type": "code",
      "metadata": {
        "id": "VjGBsKhQUgwl"
      },
      "source": [
        "def poly_model(x, beta, noise_std=0):\n",
        "    \"\"\"\n",
        "    INPUT\n",
        "        x: x vector\n",
        "        beta: polynomial parameters\n",
        "        noise_std: enable noisy sampling (gaussian noise, zero mean, noise_std std)\n",
        "    \"\"\"\n",
        "    pol_order = len(beta)\n",
        "    x_matrix = np.array([x**i for i in range(pol_order)]).transpose()\n",
        "    y = np.matmul(x_matrix, beta)\n",
        "    noise = np.random.randn(len(y)) * noise_std\n",
        "    return y + noise\n",
        "\n",
        "beta_true = [-1.45, 1.12, 2.3]\n",
        "noise_std = 0.2\n",
        "np.random.seed(4)\n",
        "\n",
        "### Train data\n",
        "num_train_points = 20\n",
        "x_train = np.random.rand(num_train_points)\n",
        "y_train = poly_model(x_train, beta_true, noise_std)\n",
        "with open('train_data.csv', 'w') as f:\n",
        "    data = [f\"{x},{y}\" for x, y in zip(x_train, y_train)]\n",
        "    f.write('\\n'.join(data))\n",
        "\n",
        "### Validation data\n",
        "num_val_points = 20\n",
        "x_val = np.random.rand(num_val_points)\n",
        "y_val = poly_model(x_val, beta_true, noise_std)\n",
        "with open('val_data.csv', 'w') as f:\n",
        "    data = [f\"{x},{y}\" for x, y in zip(x_val, y_val)]\n",
        "    f.write('\\n'.join(data))\n",
        "\n",
        "\n",
        "### Plot\n",
        "plt.figure(figsize=(12,8))\n",
        "x_highres = np.linspace(0,1,1000)\n",
        "plt.plot(x_highres, poly_model(x_highres, beta_true), color='b', ls='--', label='True data model')\n",
        "plt.plot(x_train, y_train, color='r', ls='', marker='.', label='Train data points')\n",
        "plt.plot(x_val, y_val, color='g', ls='', marker='.', label='Validation data points')\n",
        "plt.xlabel('x')\n",
        "plt.ylabel('y')\n",
        "plt.grid()\n",
        "plt.legend()\n",
        "plt.tight_layout()\n",
        "plt.show()"
      ],
      "execution_count": null,
      "outputs": []
    },
    {
      "cell_type": "markdown",
      "metadata": {
        "id": "zusKyw-4EUN7"
      },
      "source": [
        "## Network Definition"
      ]
    },
    {
      "cell_type": "markdown",
      "metadata": {
        "id": "FV6KyWPAEYxL"
      },
      "source": [
        "Define a fully connected feed-forward network with 2 hidden layers.\n",
        "\n",
        "Use a sigmoid activation function.\n",
        "\n",
        "Since this is a regression, we do not want to limit the value of the output. For this reason, NO activation function should be used for the output layer."
      ]
    },
    {
      "cell_type": "code",
      "metadata": {
        "id": "iCFiQ0t5EsnM"
      },
      "source": [
        "class Net(nn.Module):\n",
        "\n",
        "    def __init__(self, Ni, Nh1, Nh2, No):\n",
        "        \"\"\"\n",
        "        Ni - Input size\n",
        "        Nh1 - Neurons in the 1st hidden layer\n",
        "        Nh2 - Neurons in the 2nd hidden layer\n",
        "        No - Output size\n",
        "        \"\"\"\n",
        "        super().__init__()\n",
        "\n",
        "        print('Network initialized')\n",
        "        ###################################################\n",
        "        ### PUT YOR CODE HERE\n",
        "        self.fc1 = None\n",
        "        self.fc2 = None\n",
        "        self.out = None\n",
        "        self.act = None\n",
        "        ###################################################\n",
        "\n",
        "    def forward(self, x, additional_out=False):\n",
        "        ###################################################\n",
        "        ### PUT YOR CODE HERE\n",
        "        # don't forget the activations: not incuded by default!\n",
        "        x = None\n",
        "        ###################################################\n",
        "        return x"
      ],
      "execution_count": null,
      "outputs": []
    },
    {
      "cell_type": "markdown",
      "metadata": {
        "id": "loocdtx_EZWw"
      },
      "source": [
        "## Dataset and Dataloader"
      ]
    },
    {
      "cell_type": "markdown",
      "metadata": {
        "id": "kG-twDQsETb1"
      },
      "source": [
        "\n",
        "We have already implemented the dataset class in the previous lab."
      ]
    },
    {
      "cell_type": "markdown",
      "metadata": {
        "id": "ilKnlHjBgG81"
      },
      "source": [
        "### Dataset"
      ]
    },
    {
      "cell_type": "code",
      "metadata": {
        "id": "Lleqk78jfyBc"
      },
      "source": [
        "class CsvDataset(Dataset):\n",
        "\n",
        "    def __init__(self, csv_file, transform=None):\n",
        "        \"\"\"\n",
        "        Args:\n",
        "            csv_file (string): Path to the csv file.\n",
        "            transform (callable, optional): Optional transform to be applied\n",
        "                on a sample.\n",
        "        \"\"\"\n",
        "        self.transform = transform\n",
        "        # Read the file and split the lines in a list\n",
        "        with open(csv_file, 'r') as f:\n",
        "            lines = f.read().split('\\n')\n",
        "        # Get x and y values from each line and append to self.data\n",
        "        self.data = []\n",
        "        for line in lines:\n",
        "            sample = line.split(',')\n",
        "            self.data.append((float(sample[0]), float(sample[1])))\n",
        "        # Now self.data contains all our dataset.\n",
        "        # Each element of the list self.data is a tuple: (input, output)\n",
        "\n",
        "    def __len__(self):\n",
        "        # The length of the dataset is simply the length of the self.data list\n",
        "        return len(self.data)\n",
        "\n",
        "    def __getitem__(self, idx):\n",
        "        # Our sample is the element idx of the list self.data\n",
        "        sample = self.data[idx]\n",
        "        if self.transform:\n",
        "            sample = self.transform(sample)\n",
        "        return sample"
      ],
      "execution_count": null,
      "outputs": []
    },
    {
      "cell_type": "markdown",
      "metadata": {
        "id": "5qYRE5c4gJoe"
      },
      "source": [
        "### Transforms"
      ]
    },
    {
      "cell_type": "code",
      "metadata": {
        "id": "dcevK-ilf3iv"
      },
      "source": [
        "class ToTensor(object):\n",
        "    \"\"\"Convert sample to Tensors.\"\"\"\n",
        "\n",
        "    def __call__(self, sample):\n",
        "        x, y = sample\n",
        "        return (torch.tensor([x]).float(),\n",
        "                torch.tensor([y]).float())"
      ],
      "execution_count": null,
      "outputs": []
    },
    {
      "cell_type": "code",
      "metadata": {
        "id": "Yf8hVkF_D141"
      },
      "source": [
        "composed_transform = transforms.Compose([ToTensor()])\n",
        "\n",
        "train_dataset = CsvDataset('train_data.csv', transform=composed_transform)\n",
        "val_dataset = CsvDataset('val_data.csv', transform=composed_transform)"
      ],
      "execution_count": null,
      "outputs": []
    },
    {
      "cell_type": "markdown",
      "metadata": {
        "id": "3nXQIlz3gPeP"
      },
      "source": [
        "### Dataloader"
      ]
    },
    {
      "cell_type": "markdown",
      "metadata": {
        "id": "7lvOg3jhFIe5"
      },
      "source": [
        "For the dataloader:\n",
        "\n",
        "* enable the shuffling only for training data\n",
        "* try different values for batch size\n",
        "* disable the multiprocessing"
      ]
    },
    {
      "cell_type": "code",
      "metadata": {
        "id": "f1Y1XPYQFQLk"
      },
      "source": [
        "train_dataloader = DataLoader(train_dataset, batch_size=4, shuffle=True, num_workers=0)\n",
        "val_dataloader  = DataLoader(val_dataset,  batch_size=len(val_dataset), shuffle=False, num_workers=0)"
      ],
      "execution_count": null,
      "outputs": []
    },
    {
      "cell_type": "markdown",
      "metadata": {
        "id": "hWVcMe9jFCpv"
      },
      "source": [
        "## Training loop"
      ]
    },
    {
      "cell_type": "markdown",
      "metadata": {
        "id": "yK8IMi5mGAxy"
      },
      "source": [
        "Now we put together all the steps analyzed in the previous lab:"
      ]
    },
    {
      "cell_type": "code",
      "metadata": {
        "id": "U24WThWLHcEC"
      },
      "source": [
        "# Check if the GPU is available\n",
        "device = torch.device(\"cuda\") if torch.cuda.is_available() else torch.device(\"cpu\")\n",
        "print(f\"Training device: {device}\")"
      ],
      "execution_count": null,
      "outputs": []
    },
    {
      "cell_type": "code",
      "metadata": {
        "id": "Gn7W-MAmgxai"
      },
      "source": [
        "# Initialize the network\n",
        "torch.manual_seed(0)\n",
        "Ni = 1\n",
        "Nh1 = 128\n",
        "Nh2 = 256\n",
        "No = 1\n",
        "net = Net(Ni, Nh1, Nh2, No)\n",
        "net.to(device)"
      ],
      "execution_count": null,
      "outputs": []
    },
    {
      "cell_type": "code",
      "metadata": {
        "id": "XDt5U_Wgg1Mh"
      },
      "source": [
        "# Define the loss function\n",
        "loss_fn = nn.MSELoss()"
      ],
      "execution_count": null,
      "outputs": []
    },
    {
      "cell_type": "code",
      "metadata": {
        "id": "HgoFcUfPg116"
      },
      "source": [
        "# Define the optimizer\n",
        "optimizer = optim.Adam(net.parameters(), lr=1e-3)"
      ],
      "execution_count": null,
      "outputs": []
    },
    {
      "cell_type": "code",
      "metadata": {
        "id": "hLPzqHepg2RZ"
      },
      "source": [
        "num_epochs = 3000\n",
        "train_loss_log = []\n",
        "val_loss_log = []\n",
        "for epoch_num in range(num_epochs):\n",
        "    print('#################')\n",
        "    print(f'# EPOCH {epoch_num}')\n",
        "    print('#################')\n",
        "\n",
        "    ### TRAIN\n",
        "    train_loss= []\n",
        "    net.train() # Training mode (e.g. enable dropout, batchnorm updates,...)\n",
        "    for sample_batched in train_dataloader:\n",
        "        # Move data to device\n",
        "        x_batch = sample_batched[0].to(device)\n",
        "        label_batch = sample_batched[1].to(device)\n",
        "\n",
        "        ###########################################\n",
        "        ### PUT YOUR CODE HERE\n",
        "        # Forward pass\n",
        "        out = None\n",
        "\n",
        "        # Compute loss\n",
        "        loss = None\n",
        "\n",
        "        # Backpropagation\n",
        "        None\n",
        "\n",
        "        # Update the weights\n",
        "        None\n",
        "        ###########################################\n",
        "\n",
        "        # Save train loss for this batch\n",
        "        loss_batch = loss.detach().cpu().numpy()\n",
        "        train_loss.append(loss_batch)\n",
        "\n",
        "    # Save average train loss\n",
        "    train_loss = np.mean(train_loss)\n",
        "    print(f\"AVERAGE TRAIN LOSS: {train_loss}\")\n",
        "    train_loss_log.append(train_loss)\n",
        "\n",
        "    ### VALIDATION\n",
        "    val_loss= []\n",
        "    net.eval() # Evaluation mode (e.g. disable dropout, batchnorm,...)\n",
        "    with torch.no_grad(): # Disable gradient tracking\n",
        "        for sample_batched in val_dataloader:\n",
        "            # Move data to device\n",
        "            x_batch = sample_batched[0].to(device)\n",
        "            label_batch = sample_batched[1].to(device)\n",
        "\n",
        "            ###########################################\n",
        "            ### PUT YOUR CODE HERE\n",
        "            # Forward pass\n",
        "            out = None\n",
        "\n",
        "            # Compute loss\n",
        "            loss = None\n",
        "            ###########################################\n",
        "\n",
        "            # Save val loss for this batch\n",
        "            loss_batch = loss.detach().cpu().numpy()\n",
        "            val_loss.append(loss_batch)\n",
        "\n",
        "\n",
        "        # Save average validation loss\n",
        "        val_loss = np.mean(val_loss)\n",
        "        print(f\"AVERAGE VAL LOSS: {np.mean(val_loss)}\")\n",
        "        val_loss_log.append(val_loss)\n"
      ],
      "execution_count": null,
      "outputs": []
    },
    {
      "cell_type": "markdown",
      "metadata": {
        "id": "XS0i-CXukrPX"
      },
      "source": [
        "### Plot losses\n",
        "\n",
        "Additional tool for visualization:\n",
        "\n",
        "*   [Weights and Biases](https://wandb.ai/site) (Suggested)\n",
        "*   [Tensorboard](https://www.tensorflow.org/tensorboard?hl=it)\n",
        "\n"
      ]
    },
    {
      "cell_type": "code",
      "metadata": {
        "id": "FOY4yWW8lqwb"
      },
      "source": [
        "# Plot losses\n",
        "plt.figure(figsize=(12,8))\n",
        "plt.semilogy(train_loss_log, label='Train loss')\n",
        "plt.semilogy(val_loss_log, label='Validation loss')\n",
        "plt.xlabel('Epoch')\n",
        "plt.ylabel('Loss')\n",
        "plt.grid()\n",
        "plt.legend()\n",
        "plt.show()"
      ],
      "execution_count": null,
      "outputs": []
    },
    {
      "cell_type": "markdown",
      "metadata": {
        "id": "PMe88uzesM2s"
      },
      "source": [
        "## Network output"
      ]
    },
    {
      "cell_type": "code",
      "metadata": {
        "id": "xW2JB_NqmhSo"
      },
      "source": [
        "# Input vector\n",
        "x_vec = torch.linspace(0,1,1000)\n",
        "x_vec = x_vec.to(device)\n",
        "x_vec = x_vec.unsqueeze(-1)  # Adding a dimension to the input vector\n",
        "print(f\"Input shape: {x_vec.shape}\")\n",
        "\n",
        "# Network output\n",
        "# eval() acts as switch for some specific layers/parts of the model that behave\n",
        "# differently during training and inference (eval) time. For example, Dropout\n",
        "# BatchNorm etc.\n",
        "net.eval()\n",
        "with torch.no_grad(): # turn off gradients computation\n",
        "    y_vec = net(x_vec)\n",
        "print(f\"Output shape: {y_vec.shape}\")\n",
        "\n",
        "# Expected output\n",
        "beta_true = [-1.45, 1.12, 2.3]\n",
        "true_model = poly_model(x_vec.cpu().numpy(), beta_true).squeeze()"
      ],
      "execution_count": null,
      "outputs": []
    },
    {
      "cell_type": "code",
      "metadata": {
        "id": "mQ0atER6pl3S"
      },
      "source": [
        "# Convert x_vec and y_vec to numpy one dimensional arrays\n",
        "x_vec = x_vec.squeeze().cpu().numpy()\n",
        "y_vec = y_vec.squeeze().cpu().numpy()\n",
        "\n",
        "# Plot output\n",
        "plt.figure(figsize=(12,8))\n",
        "plt.plot(x_vec, y_vec, label='Network output')\n",
        "plt.plot(x_vec, true_model, label='True model')\n",
        "plt.xlabel('x')\n",
        "plt.ylabel('y')\n",
        "plt.grid()\n",
        "plt.legend()\n",
        "plt.show()"
      ],
      "execution_count": null,
      "outputs": []
    },
    {
      "cell_type": "markdown",
      "metadata": {
        "id": "G9SxwuMzsOQW"
      },
      "source": [
        "### What if we predict outside the range?"
      ]
    },
    {
      "cell_type": "code",
      "metadata": {
        "id": "k-kgTIEqsOQW"
      },
      "source": [
        "# Input vector\n",
        "x_vec = torch.linspace(-5,5,1000)\n",
        "x_vec = x_vec.to(device)\n",
        "x_vec = x_vec.unsqueeze(-1)  # Adding a dimension to the input vector\n",
        "print(f\"Input shape: {x_vec.shape}\")\n",
        "\n",
        "# Network output\n",
        "net.eval()\n",
        "with torch.no_grad():\n",
        "    y_vec = net(x_vec)\n",
        "print(f\"Output shape: {y_vec.shape}\")\n",
        "\n",
        "# Expected output\n",
        "beta_true = [-1.45, 1.12, 2.3]\n",
        "true_model = poly_model(x_vec.cpu().numpy(), beta_true).squeeze()\n",
        "\n",
        "# Convert x_vec and y_vec to numpy one dimensional arrays\n",
        "x_vec = x_vec.squeeze().cpu().numpy()\n",
        "y_vec = y_vec.squeeze().cpu().numpy()\n",
        "\n",
        "# Plot output\n",
        "plt.figure(figsize=(12,8))\n",
        "plt.plot(x_vec, y_vec, label='Network output')\n",
        "plt.plot(x_vec, true_model, label='True model')\n",
        "plt.xlabel('x')\n",
        "plt.ylabel('y')\n",
        "plt.grid()\n",
        "plt.legend()\n",
        "plt.show()"
      ],
      "execution_count": null,
      "outputs": []
    },
    {
      "cell_type": "markdown",
      "metadata": {
        "id": "RYrZyNsGsOQX"
      },
      "source": [
        "### What if we try different activation functions? (e.g., ReLU for nonlinearities)\n",
        "### Is there overfit with ReLU?\n",
        "\n",
        "### Homework : add some regularization to fight overfitting (e.g., dropout, weight decay,...)"
      ]
    },
    {
      "cell_type": "markdown",
      "metadata": {
        "id": "5w7mO62wLQUG"
      },
      "source": [
        "## Access network parameters"
      ]
    },
    {
      "cell_type": "code",
      "metadata": {
        "id": "uDgv9tIJkvKn"
      },
      "source": [
        "# First hidden layer\n",
        "h1_w = net.fc1.weight.data.cpu().numpy()\n",
        "h1_b = net.fc1.bias.data.cpu().numpy()\n",
        "\n",
        "# Second hidden layer\n",
        "h2_w = net.fc2.weight.data.cpu().numpy()\n",
        "h2_b = net.fc2.bias.data.cpu().numpy()\n",
        "\n",
        "# Output layer\n",
        "out_w = net.out.weight.data.cpu().numpy()\n",
        "out_b = net.out.bias.data.cpu().numpy()"
      ],
      "execution_count": null,
      "outputs": []
    },
    {
      "cell_type": "markdown",
      "metadata": {
        "id": "xl66-WTllFlK"
      },
      "source": [
        "## Weights histogram"
      ]
    },
    {
      "cell_type": "code",
      "metadata": {
        "id": "zNS27jm0kSVH"
      },
      "source": [
        "# Weights histogram\n",
        "fig, axs = plt.subplots(3, 1, figsize=(12,8))\n",
        "axs[0].hist(h1_w.flatten(), 50)\n",
        "axs[0].set_title('First hidden layer weights')\n",
        "axs[1].hist(h2_w.flatten(), 50)\n",
        "axs[1].set_title('Second hidden layer weights')\n",
        "axs[2].hist(out_w.flatten(), 50)\n",
        "axs[2].set_title('Output layer weights')\n",
        "[ax.grid() for ax in axs]\n",
        "plt.tight_layout()\n",
        "plt.show()"
      ],
      "execution_count": null,
      "outputs": []
    },
    {
      "cell_type": "markdown",
      "metadata": {
        "id": "M8Xo32EvlJMt"
      },
      "source": [
        "#### Homework (simple): compare the histogram before and after the training"
      ]
    },
    {
      "cell_type": "markdown",
      "metadata": {
        "id": "uG8FT5S5sOQY"
      },
      "source": [
        "## Saving the network weights **(Essential for the Final Project)**\n",
        "\n",
        "After training a model, a good practice is to save its weights in order to be able to retrieve it later.\n",
        "\n",
        "**NOTE**: saving the weights is essential also for creating checkpoints of your training process. Google Colab imposes time limits on your kernel sessions, so *it will not be possible for you to carry out very long training sessions*.\n",
        "\n",
        "It will be therefore essential for your final project to create checkpoints, so that you will be able to resume your training at a later moment, when re-gaining access of your Colab runtime. Even when using a dedicated GPU in your local machine or on a server, creating checkpoints is a good practice you should always implement in your training pipeline."
      ]
    },
    {
      "cell_type": "markdown",
      "metadata": {
        "id": "T3hQi0qMlRfI"
      },
      "source": [
        "### Save network"
      ]
    },
    {
      "cell_type": "code",
      "metadata": {
        "id": "q45V3z1nkTQ5"
      },
      "source": [
        "### Save network parameters\n",
        "### Save the network state\n",
        "# The state dictionary includes all the parameters of the network\n",
        "net_state_dict = net.state_dict()\n",
        "print(net_state_dict.keys())\n",
        "# Save the state dict to a file\n",
        "torch.save(net_state_dict, 'net_parameters.torch')"
      ],
      "execution_count": null,
      "outputs": []
    },
    {
      "cell_type": "markdown",
      "metadata": {
        "id": "N9ez-ztylTWW"
      },
      "source": [
        "### Load network"
      ]
    },
    {
      "cell_type": "code",
      "metadata": {
        "id": "4u834VExlOe5"
      },
      "source": [
        "### Reload the network state\n",
        "# First initialize the network (if not already done)\n",
        "# IMPORTANT: you need to know the model definition!!\n",
        "net = Net(Ni, Nh1, Nh2, No)\n",
        "# Load the state dict previously saved\n",
        "net_state_dict = torch.load('net_parameters.torch')\n",
        "# Update the network parameters\n",
        "net.load_state_dict(net_state_dict)"
      ],
      "execution_count": null,
      "outputs": []
    },
    {
      "cell_type": "markdown",
      "metadata": {
        "id": "rlzmh2vZnJHz"
      },
      "source": [
        "### Save optimizer state\n",
        "Also the optimizer has its internal state!\n",
        "\n",
        "You need to save both the network and the optimizer states if you want to continue your training.\n",
        "\n",
        "If you are sure you have finished your training you can just save the network."
      ]
    },
    {
      "cell_type": "code",
      "metadata": {
        "id": "g2kgoLEtnC2q"
      },
      "source": [
        "### Save the optimizer state\n",
        "torch.save(optimizer.state_dict(), 'optimizer_state.torch')\n",
        "\n",
        "### Reload the optimizer state\n",
        "optimizer = optim.Adam(net.parameters(), lr=0.001)\n",
        "opt_state_dict = torch.load('optimizer_state.torch')\n",
        "optimizer.load_state_dict(opt_state_dict)"
      ],
      "execution_count": null,
      "outputs": []
    },
    {
      "cell_type": "markdown",
      "metadata": {
        "id": "WgeV0XEmm7yJ"
      },
      "source": [
        "## Analyze activations (Advanced)"
      ]
    },
    {
      "cell_type": "code",
      "metadata": {
        "id": "IXdvC7e00z7_"
      },
      "source": [
        "# First naive way: simply change the network definition to return an additional output\n",
        "\n",
        "# More advanced strategy (optional if you're not familiar with Python!): using hooks\n",
        "\n",
        "def get_activation(layer, input, output):\n",
        "    global activation\n",
        "    activation = torch.sigmoid(output)\n",
        "\n",
        "### Register hook\n",
        "hook_handle = net.fc2.register_forward_hook(get_activation)\n",
        "\n",
        "### Analyze activations\n",
        "net = net.to(device)\n",
        "net.eval()\n",
        "with torch.no_grad():\n",
        "    x1 = torch.tensor([0.1]).float().to(device)\n",
        "    y1 = net(x1)\n",
        "    z1 = activation\n",
        "    x2 = torch.tensor([0.9]).float().to(device)\n",
        "    y2 = net(x2)\n",
        "    z2 = activation\n",
        "    x3 = torch.tensor([2.5]).float().to(device)\n",
        "    y3 = net(x3)\n",
        "    z3 = activation\n",
        "\n",
        "### Remove hook\n",
        "hook_handle.remove()\n",
        "\n",
        "### Plot activations\n",
        "fig, axs = plt.subplots(3, 1, figsize=(12,6))\n",
        "axs[0].stem(z1.cpu().numpy())\n",
        "axs[0].set_title('Last layer activations for input x=%.2f' % x1)\n",
        "axs[1].stem(z2.cpu().numpy())\n",
        "axs[1].set_title('Last layer activations for input x=%.2f' % x2)\n",
        "axs[2].stem(z3.cpu().numpy())\n",
        "axs[2].set_title('Last layer activations for input x=%.2f' % x3)\n",
        "plt.tight_layout()\n",
        "plt.show()"
      ],
      "execution_count": null,
      "outputs": []
    },
    {
      "cell_type": "markdown",
      "metadata": {
        "id": "yeBXPMglHLyP"
      },
      "source": [
        "# Part 3: Classification model with PyTorch\n"
      ]
    },
    {
      "cell_type": "markdown",
      "metadata": {
        "id": "2Eo79cojLFvC"
      },
      "source": [
        "**HINTS**\n",
        "- Choose a loss function that is suitable for the specific problem, a binary classification in this case. If you keep a single linear output you can use a BCEWithLogitsLoss, which is more numerically stable than manually using a sigmoid output activation (more info here: https://pytorch.org/docs/stable/generated/torch.nn.BCEWithLogitsLoss.html ).\n",
        "- The network now has 2 inputs. A batched input should have a shape $\\text{batch_size} \\times 2$.\n",
        "- The dataset should be adapted accordingly. Also consider to increase the batch size.\n",
        "- Explore different optimizers, trying to understand the differences and their parameters (https://pytorch.org/docs/stable/optim.html ).\n",
        "- Try to increase the complexity of the network, and at the same time to introduce some regularization with dropout layers and/or weight decay (which is equivalent to an L2 regularization, typically implemented by the optimizer).\n",
        "- Experiment with different hyper-parameters trying to minimize the VALIDATION LOSS. Once you are happy with the result, try the final test with the TEST dataset."
      ]
    },
    {
      "cell_type": "markdown",
      "metadata": {
        "id": "bNn5DYNZGNz4"
      },
      "source": [
        "## Data generation"
      ]
    },
    {
      "cell_type": "code",
      "metadata": {
        "id": "OpICn2zOD4my"
      },
      "source": [
        "import itertools\n",
        "\n",
        "np.random.seed(123)\n",
        "\n",
        "def bidimensional_model(x1, x2):\n",
        "    a = 1\n",
        "    b = 1\n",
        "    cx1 = 0\n",
        "    cx2 = 0\n",
        "    out = (x1 - cx1)**2 / a**2 + (x2 - cx2)**2 / b **2 < 1\n",
        "    a = 2\n",
        "    b = 2\n",
        "    cx1 = 5\n",
        "    cx2 = 5\n",
        "    out |= (x1 - cx1)**2 / a**2 + (x2 - cx2)**2 / b **2 < 1\n",
        "    a = 1\n",
        "    b = 2\n",
        "    cx1 = -2.5\n",
        "    cx2 = 5\n",
        "    out |= (x1 - cx1)**2 / a**2 + (x2 - cx2)**2 / b **2 < 1\n",
        "    a = 3\n",
        "    b = 1\n",
        "    cx1 = -6\n",
        "    cx2 = -2.5\n",
        "    out |= (x1 - cx1)**2 / a**2 + (x2 - cx2)**2 / b **2 < 1\n",
        "    a = 2\n",
        "    b = 4\n",
        "    cx1 = -7.5\n",
        "    cx2 = -5\n",
        "    out |= (x1 - cx1)**2 / a**2 + (x2 - cx2)**2 / b **2 < 1\n",
        "    a = 6\n",
        "    b = 1\n",
        "    cx1 = -7.5\n",
        "    cx2 = 5\n",
        "    out |= (x1 - cx1)**2 / a**2 + (x2 - cx2)**2 / b **2 < 1\n",
        "    a = 4\n",
        "    b = 4\n",
        "    cx1 = 7.5\n",
        "    cx2 = -7.5\n",
        "    out |= (x1 - cx1)**2 / a**2 + (x2 - cx2)**2 / b **2 < 1\n",
        "    a = 3\n",
        "    b = 2\n",
        "    cx1 = -1\n",
        "    cx2 = -6\n",
        "    out |= (x1 - cx1)**2 / a**2 + (x2 - cx2)**2 / b **2 < 1\n",
        "    a = 2\n",
        "    b = 5\n",
        "    cx1 = 1\n",
        "    cx2 = 6\n",
        "    out |= (x1 - cx1)**2 / a**2 + (x2 - cx2)**2 / b **2 < 1\n",
        "    a = 2\n",
        "    b = 2\n",
        "    cx1 = 6\n",
        "    cx2 = 0\n",
        "    out |= (x1 - cx1)**2 / a**2 + (x2 - cx2)**2 / b **2 < 1\n",
        "    return out.astype(int)\n",
        "\n",
        "### PLOT MODEL\n",
        "# Input grid\n",
        "x1 = np.linspace(-10, 10, 400)\n",
        "x2 = np.linspace(-10, 10, 400)\n",
        "x_prod = [x for x in itertools.product(x1, x2)]\n",
        "x1 = np.array([x[0] for x in x_prod])\n",
        "x2 = np.array([x[1] for x in x_prod])\n",
        "# Evaluate out\n",
        "y = bidimensional_model(x1, x2)\n",
        "# Scatter plot\n",
        "fig, ax = plt.subplots(figsize=(12,8))\n",
        "colors = np.array(['C0', 'C1'])\n",
        "ax.scatter(x1, x2, c=colors[y], s=10, marker='o')\n",
        "ax.set_xlabel('x1')\n",
        "ax.set_ylabel('x2')\n",
        "fig.show()"
      ],
      "execution_count": null,
      "outputs": []
    },
    {
      "cell_type": "markdown",
      "metadata": {
        "id": "zYWWVtCyGT2k"
      },
      "source": [
        "### Training points"
      ]
    },
    {
      "cell_type": "code",
      "metadata": {
        "id": "J-Jp4QJc95dq"
      },
      "source": [
        "import pandas as pd\n",
        "\n",
        "### Train data\n",
        "num_points = 1000\n",
        "x1 = np.random.uniform(-10, 10, num_points)\n",
        "x2 = np.random.uniform(-10, 10, num_points)\n",
        "y = bidimensional_model(x1, x2)\n",
        "train_df = pd.DataFrame({'x1': x1, 'x2': x2, 'y': y})\n",
        "train_df.to_csv('classifier_train_data.csv', index=False)\n",
        "\n",
        "fig, ax = plt.subplots(figsize=(12,8))\n",
        "ax.scatter(x1, x2, c=colors[y], s=10, marker='o')\n",
        "ax.set_xlabel('x1')\n",
        "ax.set_ylabel('x2')\n",
        "ax.set_title('Training points')\n",
        "fig.show()"
      ],
      "execution_count": null,
      "outputs": []
    },
    {
      "cell_type": "markdown",
      "metadata": {
        "id": "SitIaovOGVvi"
      },
      "source": [
        "### Validation points"
      ]
    },
    {
      "cell_type": "markdown",
      "metadata": {
        "id": "FjRdHgXXFWic"
      },
      "source": [
        "In this case: we generate validation points.\n",
        "Usually: validation points are randomly selected from the training points (~20% of training data)."
      ]
    },
    {
      "cell_type": "code",
      "metadata": {
        "id": "Nu1GcLMmJ7cS"
      },
      "source": [
        "### Validation data\n",
        "num_points = 200\n",
        "x1 = np.random.uniform(-10, 10, num_points)\n",
        "x2 = np.random.uniform(-10, 10, num_points)\n",
        "y = bidimensional_model(x1, x2)\n",
        "val_df = pd.DataFrame({'x1': x1, 'x2': x2, 'y': y})\n",
        "val_df.to_csv('classifier_val_data.csv', index=False)\n",
        "\n",
        "fig, ax = plt.subplots(figsize=(12,8))\n",
        "ax.scatter(x1, x2, c=colors[y], s=10, marker='o')\n",
        "ax.set_xlabel('x1')\n",
        "ax.set_ylabel('x2')\n",
        "ax.set_title('Validation points')\n",
        "fig.show()"
      ],
      "execution_count": null,
      "outputs": []
    },
    {
      "cell_type": "markdown",
      "metadata": {
        "id": "5k2jww94GXhM"
      },
      "source": [
        "### Test points"
      ]
    },
    {
      "cell_type": "code",
      "metadata": {
        "id": "ClhCIOQmKoIq"
      },
      "source": [
        "### Test data\n",
        "num_points = 400\n",
        "x1 = np.random.uniform(-10, 10, num_points)\n",
        "x2 = np.random.uniform(-10, 10, num_points)\n",
        "y = bidimensional_model(x1, x2)\n",
        "val_df = pd.DataFrame({'x1': x1, 'x2': x2, 'y': y})\n",
        "val_df.to_csv('classifier_test_data.csv', index=False)\n",
        "\n",
        "fig, ax = plt.subplots(figsize=(12,8))\n",
        "ax.scatter(x1, x2, c=colors[y], s=10, marker='o')\n",
        "ax.set_xlabel('x1')\n",
        "ax.set_ylabel('x2')\n",
        "ax.set_title('Test points')\n",
        "fig.show()"
      ],
      "execution_count": null,
      "outputs": []
    },
    {
      "cell_type": "markdown",
      "metadata": {
        "id": "BAxFx__EGgWf"
      },
      "source": [
        "## Dataset and Dataloader"
      ]
    },
    {
      "cell_type": "markdown",
      "metadata": {
        "id": "FiCbilBwHNaW"
      },
      "source": [
        "Define the dataset"
      ]
    },
    {
      "cell_type": "code",
      "metadata": {
        "id": "EUM50Gf4MCwZ"
      },
      "source": [
        "class ClassifierDataset(Dataset):\n",
        "\n",
        "    def __init__(self, csv_file, transform=None):\n",
        "        \"\"\"\n",
        "        Args:\n",
        "            csv_file (string): Path to the csv file.\n",
        "            transform (callable, optional): Optional transform to be applied\n",
        "                on a sample.\n",
        "        \"\"\"\n",
        "        ###############################\n",
        "        # PUT YOUR CODE HERE\n",
        "        self.transform = None\n",
        "        # Read the file and store the content in a pandas DataFrame\n",
        "        self.df = None\n",
        "        ###############################\n",
        "\n",
        "    def __len__(self):\n",
        "        ###############################\n",
        "        # PUT YOUR CODE HERE\n",
        "        # The length of the dataset is simply the length of the self.df DataFrame\n",
        "        return None\n",
        "        ###############################\n",
        "\n",
        "    def __getitem__(self, idx):\n",
        "        # Our sample is the row at index idx of the dataframe\n",
        "\n",
        "        ###############################\n",
        "        # PUT YOUR CODE HERE\n",
        "        row = self.df.iloc[idx]\n",
        "        # There are 2 inputs this time\n",
        "        sample = ([row.x1, row.x2], row.y)\n",
        "        if self.transform:\n",
        "            sample = None\n",
        "        ###############################\n",
        "        return sample"
      ],
      "execution_count": null,
      "outputs": []
    },
    {
      "cell_type": "markdown",
      "metadata": {
        "id": "5XUmOmF5HPxD"
      },
      "source": [
        "Define the transformations"
      ]
    },
    {
      "cell_type": "code",
      "metadata": {
        "id": "ekBZbbBvHJq4"
      },
      "source": [
        "class ToTensor(object):\n",
        "    \"\"\"Convert sample to Tensors.\"\"\"\n",
        "\n",
        "    def __call__(self, sample):\n",
        "        x, y = sample\n",
        "        return (torch.Tensor(x).float(),\n",
        "                torch.Tensor([y]).float())"
      ],
      "execution_count": null,
      "outputs": []
    },
    {
      "cell_type": "markdown",
      "metadata": {
        "id": "9NR9xVDbnQRk"
      },
      "source": [
        "Initialize the datasets"
      ]
    },
    {
      "cell_type": "code",
      "metadata": {
        "id": "Mg443m60HMAZ"
      },
      "source": [
        "###############################\n",
        "### PUT YOUR CODE HERE\n",
        "composed_transform = transforms.Compose([ToTensor()])\n",
        "\n",
        "train_dataset = None\n",
        "val_dataset   = None\n",
        "test_dataset  = None\n",
        "###############################"
      ],
      "execution_count": null,
      "outputs": []
    },
    {
      "cell_type": "markdown",
      "metadata": {
        "id": "43MlfiTOHTL0"
      },
      "source": [
        "Define the dataloaders"
      ]
    },
    {
      "cell_type": "code",
      "metadata": {
        "id": "l5n2vVDgJfnM"
      },
      "source": [
        "###############################\n",
        "#Put your code here\n",
        "train_dataloader = None #batch size = 200\n",
        "val_dataloader   = None #The batch size can be equal to the validation set size if it fits in memory\n",
        "test_dataloader  = None\n",
        "###############################"
      ],
      "execution_count": null,
      "outputs": []
    },
    {
      "cell_type": "markdown",
      "metadata": {
        "id": "o4rTz2L4G6Rf"
      },
      "source": [
        "## Network definition"
      ]
    },
    {
      "cell_type": "code",
      "metadata": {
        "id": "ZxrTC-LPG8XJ"
      },
      "source": [
        "class Net(nn.Module):\n",
        "\n",
        "    def __init__(self, Ni, Nh1, Nh2, No):\n",
        "        \"\"\"\n",
        "        Ni - Input size\n",
        "        Nh1 - Neurons in the 1st hidden layer\n",
        "        Nh2 - Neurons in the 2nd hidden layer\n",
        "        No - Output size\n",
        "        \"\"\"\n",
        "        super().__init__()\n",
        "\n",
        "        print('Network initialized')\n",
        "        self.fc1 = nn.Linear(in_features=Ni, out_features=Nh1)\n",
        "        self.fc2 = nn.Linear(in_features=Nh1, out_features=Nh2)\n",
        "        self.out = nn.Linear(in_features=Nh2, out_features=No)\n",
        "        self.act = nn.Sigmoid()\n",
        "\n",
        "    def forward(self, x, additional_out=False):\n",
        "        x = self.act(self.fc1(x))\n",
        "        x = self.act(self.fc2(x))\n",
        "        x = self.out(x)\n",
        "        return x"
      ],
      "execution_count": null,
      "outputs": []
    },
    {
      "cell_type": "markdown",
      "metadata": {
        "id": "Yha8MKgSG1f-"
      },
      "source": [
        "## Training loop"
      ]
    },
    {
      "cell_type": "code",
      "metadata": {
        "id": "E1AKIP44G3JR"
      },
      "source": [
        "# Initialize the network\n",
        "torch.manual_seed(0)\n",
        "Ni = 2\n",
        "Nh1 = 128\n",
        "Nh2 = 256\n",
        "No = 1 #now we have classification between two classes\n",
        "\n",
        "net = Net(Ni, Nh1, Nh2, No)\n",
        "net.to(device)\n",
        "\n",
        "# Define the loss function\n",
        "###############################################\n",
        "###PUT YOUR CODE HERE\n",
        "loss_fn = None # TODO: use a proper classification loss\n",
        "\n",
        "# Define the optimizer with lr=1e-2\n",
        "optimizer = None\n",
        "###############################################"
      ],
      "execution_count": null,
      "outputs": []
    },
    {
      "cell_type": "code",
      "metadata": {
        "id": "Qmgre8qHKP8R"
      },
      "source": [
        "### TRAINING LOOP\n",
        "num_epochs = 600\n",
        "train_loss_log = []\n",
        "val_loss_log = []\n",
        "for epoch_num in range(num_epochs):\n",
        "    print('#################')\n",
        "    print(f'# EPOCH {epoch_num}')\n",
        "    print('#################')\n",
        "\n",
        "    ### TRAIN\n",
        "    train_loss= []\n",
        "    ###############################################\n",
        "    ###PUT YOUR CODE HERE\n",
        "    net.train() # Training mode (e.g. enable dropout)\n",
        "    for sample_batched in train_dataloader:\n",
        "        # Move data to device\n",
        "        x_batch = None\n",
        "        label_batch = None\n",
        "\n",
        "        # Forward pass\n",
        "        out = None\n",
        "\n",
        "        # Compute loss\n",
        "        loss = None\n",
        "\n",
        "        # Backpropagation\n",
        "        None\n",
        "\n",
        "        # Update the weights\n",
        "        None\n",
        "\n",
        "        # Save train loss for this batch\n",
        "        loss_batch = loss.detach().cpu().numpy()\n",
        "        train_loss.append(loss_batch)\n",
        "\n",
        "    # Save average train loss\n",
        "    train_loss = np.mean(train_loss)\n",
        "    print(f\"AVERAGE TRAIN LOSS: {train_loss}\")\n",
        "    train_loss_log.append(train_loss)\n",
        "\n",
        "    ### VALIDATION\n",
        "    val_loss= []\n",
        "    net.eval() # Evaluation mode (e.g. disable dropout)\n",
        "    with torch.no_grad(): # Disable gradient tracking\n",
        "        for sample_batched in val_dataloader:\n",
        "            # Move data to device\n",
        "            x_batch = None\n",
        "            label_batch = None\n",
        "\n",
        "            # Forward pass\n",
        "            out=None\n",
        "\n",
        "            # Compute loss\n",
        "            loss = None\n",
        "\n",
        "            # Save val loss for this batch\n",
        "            loss_batch = loss.detach().cpu().numpy()\n",
        "            val_loss.append(loss_batch)\n",
        "        ###############################################\n",
        "        # Save average validation loss\n",
        "        val_loss = np.mean(val_loss)\n",
        "        print(f\"AVERAGE VAL LOSS: {np.mean(val_loss)}\")\n",
        "        val_loss_log.append(val_loss)\n"
      ],
      "execution_count": null,
      "outputs": []
    },
    {
      "cell_type": "code",
      "metadata": {
        "id": "VZISd_5XK5HS"
      },
      "source": [
        "# Plot losses\n",
        "plt.figure(figsize=(12,8))\n",
        "plt.semilogy(train_loss_log, label='Train loss')\n",
        "plt.semilogy(val_loss_log, label='Validation loss')\n",
        "plt.xlabel('Epoch')\n",
        "plt.ylabel('Loss')\n",
        "plt.grid()\n",
        "plt.legend()\n",
        "plt.show()"
      ],
      "execution_count": null,
      "outputs": []
    },
    {
      "cell_type": "markdown",
      "metadata": {
        "id": "tuSQe7WCP_Cz"
      },
      "source": [
        "## Final test"
      ]
    },
    {
      "cell_type": "markdown",
      "metadata": {
        "id": "8BkLq7wDnurL"
      },
      "source": [
        "Iterate the dataloader a single time and save all the outputs (in case you have multiple batches)"
      ]
    },
    {
      "cell_type": "code",
      "metadata": {
        "id": "1Bksmig_P768"
      },
      "source": [
        "all_inputs = []\n",
        "all_outputs = []\n",
        "all_labels = []\n",
        "net.eval() # Evaluation mode (e.g. disable dropout)\n",
        "with torch.no_grad(): # Disable gradient tracking\n",
        "    for sample_batched in test_dataloader:\n",
        "        # Move data to device\n",
        "        x_batch = sample_batched[0].to(device)\n",
        "        label_batch = sample_batched[1].to(device)\n",
        "        # Forward pass\n",
        "        out = net(x_batch)\n",
        "        # Save outputs and labels\n",
        "        all_inputs.append(x_batch)\n",
        "        all_outputs.append(out)\n",
        "        all_labels.append(label_batch)\n",
        "# Concatenate all the outputs and labels in a single tensor\n",
        "all_inputs  = torch.cat(all_inputs)\n",
        "all_outputs = torch.cat(all_outputs)\n",
        "all_labels  = torch.cat(all_labels)\n",
        "\n",
        "test_loss = loss_fn(all_outputs, all_labels)\n",
        "print(f\"AVERAGE TEST LOSS: {test_loss}\")"
      ],
      "execution_count": null,
      "outputs": []
    },
    {
      "cell_type": "markdown",
      "metadata": {
        "id": "kC-ZPwuqUZEh"
      },
      "source": [
        "In this case the network has a linear output (for a better stability of the loss function).\n",
        "To have probability estimates you can apply a sigmoid to the network output.\n",
        "\n",
        "Since we just need the most probable class and we have a single output, we can consider the sign of the linear output. Negative output means that the class 0 is the most probable (probability < 50%), otherwise class 1 (probability > 50%).\n",
        "\n",
        "Essentially this network estimates the probability of the input sample to be of class 1.\n",
        "\n",
        "> **NOTE**\n",
        ">\n",
        "> You can (and should, for practice) redefine the problem by defining a network with more than one output, each of them corresponding to a specific class (2 in this case). Since the two classes are mutually exclusive, the loss function should be a CrossEntropyLoss (softmax activation). In a multi-class scenario, a BCE loss is suitable when the classes are NOT mutually exclusive.\n",
        "\n",
        "\n"
      ]
    },
    {
      "cell_type": "markdown",
      "metadata": {
        "id": "YcAovj6bnpHy"
      },
      "source": [
        "\n",
        "\n",
        "---\n",
        "\n",
        "\n",
        "Get the most probable class inferred by the network\n"
      ]
    },
    {
      "cell_type": "code",
      "metadata": {
        "id": "l4-s4wdVSmrR"
      },
      "source": [
        "# Get the most probable class inferred by the network\n",
        "all_output_classes = torch.zeros(all_outputs.shape).to(device)\n",
        "all_output_classes[all_outputs > 0] = 1"
      ],
      "execution_count": null,
      "outputs": []
    },
    {
      "cell_type": "markdown",
      "metadata": {
        "id": "0MKpD6NCnX4E"
      },
      "source": [
        "Evaluate the test accuracy"
      ]
    },
    {
      "cell_type": "code",
      "metadata": {
        "id": "qNk9_PjUSB2y"
      },
      "source": [
        "tot_correct_out = (all_output_classes == all_labels).sum()\n",
        "test_accuracy = 100 * tot_correct_out / len(all_labels)\n",
        "print(f\"TEST ACCURACY: {test_accuracy:.2f}%\")"
      ],
      "execution_count": null,
      "outputs": []
    },
    {
      "cell_type": "code",
      "source": [
        "len(all_output_classes)"
      ],
      "metadata": {
        "id": "-G8p6N_XkQwj"
      },
      "execution_count": null,
      "outputs": []
    },
    {
      "cell_type": "markdown",
      "metadata": {
        "id": "a55ciPBknq9P"
      },
      "source": [
        "Plot the results"
      ]
    },
    {
      "cell_type": "code",
      "metadata": {
        "id": "8pI5we58asHV"
      },
      "source": [
        "### Plot\n",
        "x1 = all_inputs.squeeze().cpu().numpy()[:, 0]\n",
        "x2 = all_inputs.squeeze().cpu().numpy()[:, 1]\n",
        "y_true = all_labels.squeeze().cpu().numpy()\n",
        "y_pred = all_output_classes.squeeze().cpu().numpy()\n",
        "\n",
        "fig, ax = plt.subplots(figsize=(12,8))\n",
        "# Plot predictions\n",
        "ax.scatter(x1, x2, c=colors[y_pred.astype(np.uint8)], s=10, marker='o')\n",
        "ax.set_xlabel('x1')\n",
        "ax.set_ylabel('x2')\n",
        "ax.set_title('Network Predictions')\n",
        "# Mark wrong outputs\n",
        "error_mask = y_pred != y_true\n",
        "ax.scatter(x1[error_mask], x2[error_mask], color='red', s=100, marker='x', label='MISCLASSIFIED SAMPLES')\n",
        "plt.legend()\n",
        "fig.show()"
      ],
      "execution_count": null,
      "outputs": []
    },
    {
      "cell_type": "markdown",
      "metadata": {
        "id": "D8MJqzdQsOQg"
      },
      "source": [
        "# (Optional) High-level and Lightweight PyTorch wrapper: PyTorch Lightning\n"
      ]
    },
    {
      "cell_type": "markdown",
      "metadata": {
        "id": "OfHIhPKisOQh"
      },
      "source": [
        "Lightning forces the following structure to your code which makes it reusable and shareable:\n",
        "\n",
        "Research code (the LightningModule).\n",
        "Engineering code (you delete, and is handled by the Trainer).\n",
        "Non-essential research code (logging, etc... this goes in Callbacks).\n",
        "Data (use PyTorch DataLoaders or organize them into a LightningDataModule).\n",
        "Once you do this, you can train on multiple-GPUs, TPUs, CPUs and even in 16-bit precision without changing your code!"
      ]
    },
    {
      "cell_type": "code",
      "metadata": {
        "id": "xPcpIEpIsOQh"
      },
      "source": [
        "! pip install pytorch-lightning\n",
        "\n",
        "import os\n",
        "import torch\n",
        "from torch import nn\n",
        "import torch.nn.functional as F\n",
        "from torchvision import transforms\n",
        "from torchvision.datasets import MNIST\n",
        "from torch.utils.data import DataLoader, random_split\n",
        "import pytorch_lightning as pl"
      ],
      "execution_count": null,
      "outputs": []
    },
    {
      "cell_type": "code",
      "metadata": {
        "id": "kPq03tUzsOQh"
      },
      "source": [
        "# Define a LightningModule (nn.Module subclass)\n",
        "# A LightningModule defines a full system (ie: a GAN, autoencoder, BERT or a simple Image Classifier).\n",
        "class LitNet(pl.LightningModule):\n",
        "    def __init__(self, Ni, Nh1, Nh2, No):\n",
        "        \"\"\"\n",
        "        Ni - Input size\n",
        "        Nh1 - Neurons in the 1st hidden layer\n",
        "        Nh2 - Neurons in the 2nd hidden layer\n",
        "        No - Output size\n",
        "        \"\"\"\n",
        "        super().__init__()\n",
        "\n",
        "        print('Network initialized')\n",
        "        self.net = nn.Sequential(nn.Linear(in_features=Ni, out_features=Nh1),\n",
        "                       nn.Sigmoid(),\n",
        "                       nn.Linear(in_features=Nh1, out_features=Nh2),\n",
        "                       nn.Sigmoid(),\n",
        "                       nn.Linear(in_features=Nh2, out_features=No))\n",
        "        self.val_loss = []\n",
        "        self.train_loss = []\n",
        "\n",
        "    # Forward step defines how the LightningModule behaves during inference/prediction.\n",
        "    def forward(self, x, additional_out=False):\n",
        "        return self.net(x)\n",
        "\n",
        "    # Training_step defines the training loop.\n",
        "    def training_step(self, batch, batch_idx=None):\n",
        "        # training_step defines the train loop. It is independent of forward\n",
        "        x_batch = batch[0]\n",
        "        label_batch = batch[1]\n",
        "        out = self.net(x_batch)\n",
        "        loss = F.binary_cross_entropy_with_logits(out, label_batch)\n",
        "        self.train_loss.append(loss.item())\n",
        "        return loss\n",
        "\n",
        "    def validation_step(self, batch, batch_idx=None):\n",
        "        # validation_step defines the validation loop. It is independent of forward\n",
        "        x_batch = batch[0]\n",
        "        label_batch = batch[1]\n",
        "        out = self.net(x_batch)\n",
        "        loss = F.binary_cross_entropy_with_logits(out, label_batch)\n",
        "        self.val_loss.append(loss.item())\n",
        "        self.log(\"val_loss\", loss.item(), prog_bar=True)\n",
        "\n",
        "    def configure_optimizers(self):\n",
        "        optimizer = optim.Adam(self.net.parameters(), lr=1e-2)\n",
        "        return optimizer"
      ],
      "execution_count": null,
      "outputs": []
    },
    {
      "cell_type": "code",
      "metadata": {
        "id": "3ideebe2sOQh"
      },
      "source": [
        "# TRAIN!\n",
        "batch_size = 200\n",
        "train_dataloader = DataLoader(train_dataset, batch_size=batch_size, shuffle=True, num_workers=0)\n",
        "val_dataloader   = DataLoader(val_dataset,   batch_size=len(val_dataset), shuffle=False, num_workers=0)\n",
        "test_dataloader  = DataLoader(test_dataset,  batch_size=len(test_dataset), shuffle=False, num_workers=0)\n",
        "\n",
        "trainer = pl.Trainer(devices=1, max_epochs=20, val_check_interval=1)\n",
        "litnet = LitNet(Ni, Nh1, Nh2, No)\n",
        "trainer.fit(litnet, train_dataloader, val_dataloader)\n"
      ],
      "execution_count": null,
      "outputs": []
    },
    {
      "cell_type": "code",
      "metadata": {
        "id": "sAve8uC2jAbL"
      },
      "source": [
        "# Plot losses\n",
        "plt.figure(figsize=(12,8))\n",
        "plt.semilogy(litnet.train_loss, label='Train loss')\n",
        "plt.semilogy(litnet.val_loss, label='Validation loss')\n",
        "plt.xlabel('Epoch')\n",
        "plt.ylabel('Loss')\n",
        "plt.grid()\n",
        "plt.legend()\n",
        "plt.show()"
      ],
      "execution_count": null,
      "outputs": []
    },
    {
      "cell_type": "markdown",
      "metadata": {
        "id": "6YxnHwevsOQh"
      },
      "source": [
        "# (Optional) Automatic Hyper-parameters Tuning: Optuna\n"
      ]
    },
    {
      "cell_type": "markdown",
      "metadata": {
        "id": "nuEU_L3jsOQi"
      },
      "source": [
        "Optuna is an automatic hyperparameter optimization software framework.\n",
        "\n",
        "- Lightweight, versatile, and platform agnostic architecture\n",
        "- Pythonic search spaces\n",
        "- Efficient optimization algorithms\n",
        "- Easy parallelization\n",
        "- Quick visualization\n",
        "\n",
        "\n",
        "Definitions:\n",
        "\n",
        "- Study: optimization based on an objective function\n",
        "- Trial: a single execution of the objective function\n",
        "\n",
        "The goal of a study is to find out the optimal set of hyperparameter values (e.g., classifier and svm_c) through multiple trials (e.g., n_trials=100). Optuna is a framework designed for the automation and the acceleration of the optimization studies.\n",
        "\n",
        "Optuna works with PyTorch, but also with Tensorflow, Keras and PyTorch Lightning! (and many others)"
      ]
    },
    {
      "cell_type": "code",
      "metadata": {
        "id": "cczfouc7rrCn"
      },
      "source": [
        "! pip install optuna"
      ],
      "execution_count": null,
      "outputs": []
    },
    {
      "cell_type": "code",
      "metadata": {
        "id": "Ix7PMDrmsOQi"
      },
      "source": [
        "# Before we used:\n",
        "# Nh1 = 128\n",
        "# Nh2 = 256\n",
        "\n",
        "import optuna\n",
        "\n",
        "def objective(trial):\n",
        "\n",
        "    # We optimize the number of hidden units in each layer.\n",
        "    output_dims = [\n",
        "        trial.suggest_int(\"n_units_l{}\".format(i), 64, 256, log=True) for i in range(2)\n",
        "    ]\n",
        "\n",
        "    model = LitNet(Ni, output_dims[0], output_dims[1], No)\n",
        "\n",
        "    trainer = pl.Trainer(devices=1, max_epochs=20, val_check_interval=1,\n",
        "                         log_every_n_steps=1)\n",
        "    hyperparameters = dict(output_dims=output_dims)\n",
        "    trainer.logger.log_hyperparams(hyperparameters)\n",
        "    trainer.fit(model, train_dataloader, val_dataloader)\n",
        "    return trainer.callback_metrics[\"val_loss\"].item()\n",
        "\n",
        "\n",
        "pruner = optuna.pruners.NopPruner()\n",
        "# print(pruner) <optuna.pruners._nop.NopPruner object at 0x7f4c2466ed50>\n",
        "# print(type(pruner)) <class 'optuna.pruners._nop.NopPruner'>\n",
        "\n",
        "study = optuna.create_study(study_name=\"myfirstoptimizationstudy\", direction=\"minimize\", pruner=pruner)\n",
        "study.optimize(objective, n_trials=3, timeout=300)\n",
        "\n",
        "print(\"Number of finished trials: {}\".format(len(study.trials)))\n",
        "\n",
        "print(\"Best trial:\")\n",
        "trial = study.best_trial\n",
        "\n",
        "print(\"  Value: {}\".format(trial.value))\n",
        "\n",
        "print(\"  Params: \")\n",
        "for key, value in trial.params.items():\n",
        "    print(\"    {}: {}\".format(key, value))"
      ],
      "execution_count": null,
      "outputs": []
    },
    {
      "cell_type": "markdown",
      "metadata": {
        "id": "o_ZKPakhuFSi"
      },
      "source": [
        "# Homework\n",
        "\n",
        "Try tuning other hyper-parameters, such as the learning rate."
      ]
    }
  ]
}